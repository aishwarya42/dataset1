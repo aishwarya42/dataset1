{
 "cells": [
  {
   "cell_type": "code",
   "execution_count": 56,
   "metadata": {},
   "outputs": [],
   "source": [
    "import pandas as pd\n",
    "import datetime as datetime\n",
    "import numpy as np\n",
    "import matplotlib.pyplot as plt\n",
    "plt.style.use('ggplot')\n",
    "%matplotlib inline"
   ]
  },
  {
   "cell_type": "code",
   "execution_count": 57,
   "metadata": {},
   "outputs": [],
   "source": [
    "df = pd.read_csv('COVID19_line_list_data.csv')"
   ]
  },
  {
   "cell_type": "code",
   "execution_count": 60,
   "metadata": {},
   "outputs": [
    {
     "data": {
      "text/plain": [
       "(1085, 27)"
      ]
     },
     "execution_count": 60,
     "metadata": {},
     "output_type": "execute_result"
    }
   ],
   "source": [
    "df.shape"
   ]
  },
  {
   "cell_type": "code",
   "execution_count": 61,
   "metadata": {},
   "outputs": [
    {
     "name": "stdout",
     "output_type": "stream",
     "text": [
      "<class 'pandas.core.frame.DataFrame'>\n",
      "RangeIndex: 1085 entries, 0 to 1084\n",
      "Data columns (total 27 columns):\n",
      "id                       1085 non-null int64\n",
      "case_in_country          888 non-null float64\n",
      "reporting date           1084 non-null object\n",
      "Unnamed: 3               0 non-null float64\n",
      "summary                  1080 non-null object\n",
      "location                 1085 non-null object\n",
      "country                  1085 non-null object\n",
      "gender                   902 non-null object\n",
      "age                      843 non-null float64\n",
      "symptom_onset            563 non-null object\n",
      "If_onset_approximated    560 non-null float64\n",
      "hosp_visit_date          507 non-null object\n",
      "exposure_start           128 non-null object\n",
      "exposure_end             341 non-null object\n",
      "visiting Wuhan           1085 non-null int64\n",
      "from Wuhan               1081 non-null float64\n",
      "death                    1085 non-null object\n",
      "recovered                1085 non-null object\n",
      "symptom                  270 non-null object\n",
      "source                   1085 non-null object\n",
      "link                     1085 non-null object\n",
      "Unnamed: 21              0 non-null float64\n",
      "Unnamed: 22              0 non-null float64\n",
      "Unnamed: 23              0 non-null float64\n",
      "Unnamed: 24              0 non-null float64\n",
      "Unnamed: 25              0 non-null float64\n",
      "Unnamed: 26              0 non-null float64\n",
      "dtypes: float64(11), int64(2), object(14)\n",
      "memory usage: 229.0+ KB\n"
     ]
    }
   ],
   "source": [
    "df.info()"
   ]
  },
  {
   "cell_type": "code",
   "execution_count": 62,
   "metadata": {},
   "outputs": [],
   "source": [
    "\n",
    "df.drop(df.columns[df.columns.str.contains('unnamed',case = False)],axis = 1, inplace=True)"
   ]
  },
  {
   "cell_type": "code",
   "execution_count": 63,
   "metadata": {},
   "outputs": [
    {
     "data": {
      "text/html": [
       "<div>\n",
       "<style scoped>\n",
       "    .dataframe tbody tr th:only-of-type {\n",
       "        vertical-align: middle;\n",
       "    }\n",
       "\n",
       "    .dataframe tbody tr th {\n",
       "        vertical-align: top;\n",
       "    }\n",
       "\n",
       "    .dataframe thead th {\n",
       "        text-align: right;\n",
       "    }\n",
       "</style>\n",
       "<table border=\"1\" class=\"dataframe\">\n",
       "  <thead>\n",
       "    <tr style=\"text-align: right;\">\n",
       "      <th></th>\n",
       "      <th>id</th>\n",
       "      <th>case_in_country</th>\n",
       "      <th>age</th>\n",
       "      <th>If_onset_approximated</th>\n",
       "      <th>visiting Wuhan</th>\n",
       "      <th>from Wuhan</th>\n",
       "    </tr>\n",
       "  </thead>\n",
       "  <tbody>\n",
       "    <tr>\n",
       "      <th>count</th>\n",
       "      <td>1085.000000</td>\n",
       "      <td>888.000000</td>\n",
       "      <td>843.000000</td>\n",
       "      <td>560.000000</td>\n",
       "      <td>1085.000000</td>\n",
       "      <td>1081.000000</td>\n",
       "    </tr>\n",
       "    <tr>\n",
       "      <th>mean</th>\n",
       "      <td>543.000000</td>\n",
       "      <td>48.841216</td>\n",
       "      <td>49.483689</td>\n",
       "      <td>0.042857</td>\n",
       "      <td>0.176959</td>\n",
       "      <td>0.144311</td>\n",
       "    </tr>\n",
       "    <tr>\n",
       "      <th>std</th>\n",
       "      <td>313.356825</td>\n",
       "      <td>78.853528</td>\n",
       "      <td>18.255334</td>\n",
       "      <td>0.202716</td>\n",
       "      <td>0.381810</td>\n",
       "      <td>0.351567</td>\n",
       "    </tr>\n",
       "    <tr>\n",
       "      <th>min</th>\n",
       "      <td>1.000000</td>\n",
       "      <td>1.000000</td>\n",
       "      <td>0.250000</td>\n",
       "      <td>0.000000</td>\n",
       "      <td>0.000000</td>\n",
       "      <td>0.000000</td>\n",
       "    </tr>\n",
       "    <tr>\n",
       "      <th>25%</th>\n",
       "      <td>272.000000</td>\n",
       "      <td>11.000000</td>\n",
       "      <td>35.000000</td>\n",
       "      <td>0.000000</td>\n",
       "      <td>0.000000</td>\n",
       "      <td>0.000000</td>\n",
       "    </tr>\n",
       "    <tr>\n",
       "      <th>50%</th>\n",
       "      <td>543.000000</td>\n",
       "      <td>28.000000</td>\n",
       "      <td>51.000000</td>\n",
       "      <td>0.000000</td>\n",
       "      <td>0.000000</td>\n",
       "      <td>0.000000</td>\n",
       "    </tr>\n",
       "    <tr>\n",
       "      <th>75%</th>\n",
       "      <td>814.000000</td>\n",
       "      <td>67.250000</td>\n",
       "      <td>64.000000</td>\n",
       "      <td>0.000000</td>\n",
       "      <td>0.000000</td>\n",
       "      <td>0.000000</td>\n",
       "    </tr>\n",
       "    <tr>\n",
       "      <th>max</th>\n",
       "      <td>1085.000000</td>\n",
       "      <td>1443.000000</td>\n",
       "      <td>96.000000</td>\n",
       "      <td>1.000000</td>\n",
       "      <td>1.000000</td>\n",
       "      <td>1.000000</td>\n",
       "    </tr>\n",
       "  </tbody>\n",
       "</table>\n",
       "</div>"
      ],
      "text/plain": [
       "                id  case_in_country         age  If_onset_approximated  \\\n",
       "count  1085.000000       888.000000  843.000000             560.000000   \n",
       "mean    543.000000        48.841216   49.483689               0.042857   \n",
       "std     313.356825        78.853528   18.255334               0.202716   \n",
       "min       1.000000         1.000000    0.250000               0.000000   \n",
       "25%     272.000000        11.000000   35.000000               0.000000   \n",
       "50%     543.000000        28.000000   51.000000               0.000000   \n",
       "75%     814.000000        67.250000   64.000000               0.000000   \n",
       "max    1085.000000      1443.000000   96.000000               1.000000   \n",
       "\n",
       "       visiting Wuhan   from Wuhan  \n",
       "count     1085.000000  1081.000000  \n",
       "mean         0.176959     0.144311  \n",
       "std          0.381810     0.351567  \n",
       "min          0.000000     0.000000  \n",
       "25%          0.000000     0.000000  \n",
       "50%          0.000000     0.000000  \n",
       "75%          0.000000     0.000000  \n",
       "max          1.000000     1.000000  "
      ]
     },
     "execution_count": 63,
     "metadata": {},
     "output_type": "execute_result"
    }
   ],
   "source": [
    "df.describe()"
   ]
  },
  {
   "cell_type": "code",
   "execution_count": 64,
   "metadata": {},
   "outputs": [
    {
     "data": {
      "text/html": [
       "<div>\n",
       "<style scoped>\n",
       "    .dataframe tbody tr th:only-of-type {\n",
       "        vertical-align: middle;\n",
       "    }\n",
       "\n",
       "    .dataframe tbody tr th {\n",
       "        vertical-align: top;\n",
       "    }\n",
       "\n",
       "    .dataframe thead th {\n",
       "        text-align: right;\n",
       "    }\n",
       "</style>\n",
       "<table border=\"1\" class=\"dataframe\">\n",
       "  <thead>\n",
       "    <tr style=\"text-align: right;\">\n",
       "      <th></th>\n",
       "      <th>id</th>\n",
       "      <th>case_in_country</th>\n",
       "      <th>reporting date</th>\n",
       "      <th>summary</th>\n",
       "      <th>location</th>\n",
       "      <th>country</th>\n",
       "      <th>gender</th>\n",
       "      <th>age</th>\n",
       "      <th>symptom_onset</th>\n",
       "      <th>If_onset_approximated</th>\n",
       "      <th>hosp_visit_date</th>\n",
       "      <th>exposure_start</th>\n",
       "      <th>exposure_end</th>\n",
       "      <th>visiting Wuhan</th>\n",
       "      <th>from Wuhan</th>\n",
       "      <th>death</th>\n",
       "      <th>recovered</th>\n",
       "      <th>symptom</th>\n",
       "      <th>source</th>\n",
       "      <th>link</th>\n",
       "    </tr>\n",
       "  </thead>\n",
       "  <tbody>\n",
       "    <tr>\n",
       "      <th>0</th>\n",
       "      <td>1</td>\n",
       "      <td>NaN</td>\n",
       "      <td>1/20/2020</td>\n",
       "      <td>First confirmed imported COVID-19 pneumonia pa...</td>\n",
       "      <td>Shenzhen, Guangdong</td>\n",
       "      <td>China</td>\n",
       "      <td>male</td>\n",
       "      <td>66.0</td>\n",
       "      <td>01/03/20</td>\n",
       "      <td>0.0</td>\n",
       "      <td>01/11/20</td>\n",
       "      <td>12/29/2019</td>\n",
       "      <td>01/04/20</td>\n",
       "      <td>1</td>\n",
       "      <td>0.0</td>\n",
       "      <td>0</td>\n",
       "      <td>0</td>\n",
       "      <td>NaN</td>\n",
       "      <td>Shenzhen Municipal Health Commission</td>\n",
       "      <td>http://wjw.sz.gov.cn/wzx/202001/t20200120_1898...</td>\n",
       "    </tr>\n",
       "    <tr>\n",
       "      <th>1</th>\n",
       "      <td>2</td>\n",
       "      <td>NaN</td>\n",
       "      <td>1/20/2020</td>\n",
       "      <td>First confirmed imported COVID-19 pneumonia pa...</td>\n",
       "      <td>Shanghai</td>\n",
       "      <td>China</td>\n",
       "      <td>female</td>\n",
       "      <td>56.0</td>\n",
       "      <td>1/15/2020</td>\n",
       "      <td>0.0</td>\n",
       "      <td>1/15/2020</td>\n",
       "      <td>NaN</td>\n",
       "      <td>01/12/20</td>\n",
       "      <td>0</td>\n",
       "      <td>1.0</td>\n",
       "      <td>0</td>\n",
       "      <td>0</td>\n",
       "      <td>NaN</td>\n",
       "      <td>Official Weibo of Shanghai Municipal Health Co...</td>\n",
       "      <td>https://www.weibo.com/2372649470/IqogQhgfa?fro...</td>\n",
       "    </tr>\n",
       "    <tr>\n",
       "      <th>2</th>\n",
       "      <td>3</td>\n",
       "      <td>NaN</td>\n",
       "      <td>1/21/2020</td>\n",
       "      <td>First confirmed imported cases in Zhejiang: pa...</td>\n",
       "      <td>Zhejiang</td>\n",
       "      <td>China</td>\n",
       "      <td>male</td>\n",
       "      <td>46.0</td>\n",
       "      <td>01/04/20</td>\n",
       "      <td>0.0</td>\n",
       "      <td>1/17/2020</td>\n",
       "      <td>NaN</td>\n",
       "      <td>01/03/20</td>\n",
       "      <td>0</td>\n",
       "      <td>1.0</td>\n",
       "      <td>0</td>\n",
       "      <td>0</td>\n",
       "      <td>NaN</td>\n",
       "      <td>Health Commission of Zhejiang Province</td>\n",
       "      <td>http://www.zjwjw.gov.cn/art/2020/1/21/art_1202...</td>\n",
       "    </tr>\n",
       "    <tr>\n",
       "      <th>3</th>\n",
       "      <td>4</td>\n",
       "      <td>NaN</td>\n",
       "      <td>1/21/2020</td>\n",
       "      <td>new confirmed imported COVID-19 pneumonia in T...</td>\n",
       "      <td>Tianjin</td>\n",
       "      <td>China</td>\n",
       "      <td>female</td>\n",
       "      <td>60.0</td>\n",
       "      <td>NaN</td>\n",
       "      <td>NaN</td>\n",
       "      <td>1/19/2020</td>\n",
       "      <td>NaN</td>\n",
       "      <td>NaN</td>\n",
       "      <td>1</td>\n",
       "      <td>0.0</td>\n",
       "      <td>0</td>\n",
       "      <td>0</td>\n",
       "      <td>NaN</td>\n",
       "      <td>人民日报官方微博</td>\n",
       "      <td>https://m.weibo.cn/status/4463235401268457?</td>\n",
       "    </tr>\n",
       "    <tr>\n",
       "      <th>4</th>\n",
       "      <td>5</td>\n",
       "      <td>NaN</td>\n",
       "      <td>1/21/2020</td>\n",
       "      <td>new confirmed imported COVID-19 pneumonia in T...</td>\n",
       "      <td>Tianjin</td>\n",
       "      <td>China</td>\n",
       "      <td>male</td>\n",
       "      <td>58.0</td>\n",
       "      <td>NaN</td>\n",
       "      <td>NaN</td>\n",
       "      <td>1/14/2020</td>\n",
       "      <td>NaN</td>\n",
       "      <td>NaN</td>\n",
       "      <td>0</td>\n",
       "      <td>0.0</td>\n",
       "      <td>0</td>\n",
       "      <td>0</td>\n",
       "      <td>NaN</td>\n",
       "      <td>人民日报官方微博</td>\n",
       "      <td>https://m.weibo.cn/status/4463235401268457?</td>\n",
       "    </tr>\n",
       "    <tr>\n",
       "      <th>...</th>\n",
       "      <td>...</td>\n",
       "      <td>...</td>\n",
       "      <td>...</td>\n",
       "      <td>...</td>\n",
       "      <td>...</td>\n",
       "      <td>...</td>\n",
       "      <td>...</td>\n",
       "      <td>...</td>\n",
       "      <td>...</td>\n",
       "      <td>...</td>\n",
       "      <td>...</td>\n",
       "      <td>...</td>\n",
       "      <td>...</td>\n",
       "      <td>...</td>\n",
       "      <td>...</td>\n",
       "      <td>...</td>\n",
       "      <td>...</td>\n",
       "      <td>...</td>\n",
       "      <td>...</td>\n",
       "      <td>...</td>\n",
       "    </tr>\n",
       "    <tr>\n",
       "      <th>1080</th>\n",
       "      <td>1081</td>\n",
       "      <td>2.0</td>\n",
       "      <td>2/25/2020</td>\n",
       "      <td>new COVID-19 patient confirmed in Austria: 24,...</td>\n",
       "      <td>Innsbruck</td>\n",
       "      <td>Austria</td>\n",
       "      <td>NaN</td>\n",
       "      <td>24.0</td>\n",
       "      <td>NaN</td>\n",
       "      <td>NaN</td>\n",
       "      <td>NaN</td>\n",
       "      <td>NaN</td>\n",
       "      <td>NaN</td>\n",
       "      <td>0</td>\n",
       "      <td>0.0</td>\n",
       "      <td>0</td>\n",
       "      <td>0</td>\n",
       "      <td>NaN</td>\n",
       "      <td>Jakarta Post</td>\n",
       "      <td>https://www.thejakartapost.com/news/2020/02/25...</td>\n",
       "    </tr>\n",
       "    <tr>\n",
       "      <th>1081</th>\n",
       "      <td>1082</td>\n",
       "      <td>1.0</td>\n",
       "      <td>2/24/2020</td>\n",
       "      <td>new COVID-19 patient confirmed in Afghanistan:...</td>\n",
       "      <td>Afghanistan</td>\n",
       "      <td>Afghanistan</td>\n",
       "      <td>NaN</td>\n",
       "      <td>35.0</td>\n",
       "      <td>NaN</td>\n",
       "      <td>NaN</td>\n",
       "      <td>NaN</td>\n",
       "      <td>NaN</td>\n",
       "      <td>NaN</td>\n",
       "      <td>0</td>\n",
       "      <td>0.0</td>\n",
       "      <td>0</td>\n",
       "      <td>0</td>\n",
       "      <td>NaN</td>\n",
       "      <td>Fox News</td>\n",
       "      <td>https://www.foxnews.com/health/afghanistan-fir...</td>\n",
       "    </tr>\n",
       "    <tr>\n",
       "      <th>1082</th>\n",
       "      <td>1083</td>\n",
       "      <td>1.0</td>\n",
       "      <td>2/26/2020</td>\n",
       "      <td>new COVID-19 patient confirmed in Algeria: mal...</td>\n",
       "      <td>Algeria</td>\n",
       "      <td>Algeria</td>\n",
       "      <td>male</td>\n",
       "      <td>NaN</td>\n",
       "      <td>NaN</td>\n",
       "      <td>NaN</td>\n",
       "      <td>NaN</td>\n",
       "      <td>NaN</td>\n",
       "      <td>2/17/2020</td>\n",
       "      <td>0</td>\n",
       "      <td>0.0</td>\n",
       "      <td>0</td>\n",
       "      <td>0</td>\n",
       "      <td>NaN</td>\n",
       "      <td>South China Morning Post</td>\n",
       "      <td>https://www.scmp.com/news/china/society/articl...</td>\n",
       "    </tr>\n",
       "    <tr>\n",
       "      <th>1083</th>\n",
       "      <td>1084</td>\n",
       "      <td>1.0</td>\n",
       "      <td>2/25/2020</td>\n",
       "      <td>new COVID-19 patient confirmed in Croatia: mal...</td>\n",
       "      <td>Croatia</td>\n",
       "      <td>Croatia</td>\n",
       "      <td>male</td>\n",
       "      <td>NaN</td>\n",
       "      <td>NaN</td>\n",
       "      <td>NaN</td>\n",
       "      <td>NaN</td>\n",
       "      <td>2/19/2020</td>\n",
       "      <td>2/21/2020</td>\n",
       "      <td>0</td>\n",
       "      <td>0.0</td>\n",
       "      <td>0</td>\n",
       "      <td>0</td>\n",
       "      <td>NaN</td>\n",
       "      <td>Reuters</td>\n",
       "      <td>https://www.reuters.com/article/us-croatia-cor...</td>\n",
       "    </tr>\n",
       "    <tr>\n",
       "      <th>1084</th>\n",
       "      <td>1085</td>\n",
       "      <td>1.0</td>\n",
       "      <td>2/25/2020</td>\n",
       "      <td>new COVID-19 patient confirmed in Switzerland:...</td>\n",
       "      <td>Bern</td>\n",
       "      <td>Switzerland</td>\n",
       "      <td>male</td>\n",
       "      <td>70.0</td>\n",
       "      <td>2/17/2020</td>\n",
       "      <td>NaN</td>\n",
       "      <td>NaN</td>\n",
       "      <td>2/15/2020</td>\n",
       "      <td>2/15/2020</td>\n",
       "      <td>0</td>\n",
       "      <td>0.0</td>\n",
       "      <td>0</td>\n",
       "      <td>0</td>\n",
       "      <td>NaN</td>\n",
       "      <td>Reuters</td>\n",
       "      <td>https://www.reuters.com/article/uk-switzerland...</td>\n",
       "    </tr>\n",
       "  </tbody>\n",
       "</table>\n",
       "<p>1085 rows × 20 columns</p>\n",
       "</div>"
      ],
      "text/plain": [
       "        id  case_in_country reporting date  \\\n",
       "0        1              NaN      1/20/2020   \n",
       "1        2              NaN      1/20/2020   \n",
       "2        3              NaN      1/21/2020   \n",
       "3        4              NaN      1/21/2020   \n",
       "4        5              NaN      1/21/2020   \n",
       "...    ...              ...            ...   \n",
       "1080  1081              2.0      2/25/2020   \n",
       "1081  1082              1.0      2/24/2020   \n",
       "1082  1083              1.0      2/26/2020   \n",
       "1083  1084              1.0      2/25/2020   \n",
       "1084  1085              1.0      2/25/2020   \n",
       "\n",
       "                                                summary             location  \\\n",
       "0     First confirmed imported COVID-19 pneumonia pa...  Shenzhen, Guangdong   \n",
       "1     First confirmed imported COVID-19 pneumonia pa...             Shanghai   \n",
       "2     First confirmed imported cases in Zhejiang: pa...             Zhejiang   \n",
       "3     new confirmed imported COVID-19 pneumonia in T...              Tianjin   \n",
       "4     new confirmed imported COVID-19 pneumonia in T...              Tianjin   \n",
       "...                                                 ...                  ...   \n",
       "1080  new COVID-19 patient confirmed in Austria: 24,...            Innsbruck   \n",
       "1081  new COVID-19 patient confirmed in Afghanistan:...          Afghanistan   \n",
       "1082  new COVID-19 patient confirmed in Algeria: mal...              Algeria   \n",
       "1083  new COVID-19 patient confirmed in Croatia: mal...              Croatia   \n",
       "1084  new COVID-19 patient confirmed in Switzerland:...                 Bern   \n",
       "\n",
       "          country  gender   age symptom_onset  If_onset_approximated  \\\n",
       "0           China    male  66.0      01/03/20                    0.0   \n",
       "1           China  female  56.0     1/15/2020                    0.0   \n",
       "2           China    male  46.0      01/04/20                    0.0   \n",
       "3           China  female  60.0           NaN                    NaN   \n",
       "4           China    male  58.0           NaN                    NaN   \n",
       "...           ...     ...   ...           ...                    ...   \n",
       "1080      Austria     NaN  24.0           NaN                    NaN   \n",
       "1081  Afghanistan     NaN  35.0           NaN                    NaN   \n",
       "1082      Algeria    male   NaN           NaN                    NaN   \n",
       "1083      Croatia    male   NaN           NaN                    NaN   \n",
       "1084  Switzerland    male  70.0     2/17/2020                    NaN   \n",
       "\n",
       "     hosp_visit_date exposure_start exposure_end  visiting Wuhan  from Wuhan  \\\n",
       "0           01/11/20     12/29/2019     01/04/20               1         0.0   \n",
       "1          1/15/2020            NaN     01/12/20               0         1.0   \n",
       "2          1/17/2020            NaN     01/03/20               0         1.0   \n",
       "3          1/19/2020            NaN          NaN               1         0.0   \n",
       "4          1/14/2020            NaN          NaN               0         0.0   \n",
       "...              ...            ...          ...             ...         ...   \n",
       "1080             NaN            NaN          NaN               0         0.0   \n",
       "1081             NaN            NaN          NaN               0         0.0   \n",
       "1082             NaN            NaN    2/17/2020               0         0.0   \n",
       "1083             NaN      2/19/2020    2/21/2020               0         0.0   \n",
       "1084             NaN      2/15/2020    2/15/2020               0         0.0   \n",
       "\n",
       "     death recovered symptom  \\\n",
       "0        0         0     NaN   \n",
       "1        0         0     NaN   \n",
       "2        0         0     NaN   \n",
       "3        0         0     NaN   \n",
       "4        0         0     NaN   \n",
       "...    ...       ...     ...   \n",
       "1080     0         0     NaN   \n",
       "1081     0         0     NaN   \n",
       "1082     0         0     NaN   \n",
       "1083     0         0     NaN   \n",
       "1084     0         0     NaN   \n",
       "\n",
       "                                                 source  \\\n",
       "0                  Shenzhen Municipal Health Commission   \n",
       "1     Official Weibo of Shanghai Municipal Health Co...   \n",
       "2                Health Commission of Zhejiang Province   \n",
       "3                                              人民日报官方微博   \n",
       "4                                              人民日报官方微博   \n",
       "...                                                 ...   \n",
       "1080                                       Jakarta Post   \n",
       "1081                                           Fox News   \n",
       "1082                           South China Morning Post   \n",
       "1083                                            Reuters   \n",
       "1084                                            Reuters   \n",
       "\n",
       "                                                   link  \n",
       "0     http://wjw.sz.gov.cn/wzx/202001/t20200120_1898...  \n",
       "1     https://www.weibo.com/2372649470/IqogQhgfa?fro...  \n",
       "2     http://www.zjwjw.gov.cn/art/2020/1/21/art_1202...  \n",
       "3           https://m.weibo.cn/status/4463235401268457?  \n",
       "4           https://m.weibo.cn/status/4463235401268457?  \n",
       "...                                                 ...  \n",
       "1080  https://www.thejakartapost.com/news/2020/02/25...  \n",
       "1081  https://www.foxnews.com/health/afghanistan-fir...  \n",
       "1082  https://www.scmp.com/news/china/society/articl...  \n",
       "1083  https://www.reuters.com/article/us-croatia-cor...  \n",
       "1084  https://www.reuters.com/article/uk-switzerland...  \n",
       "\n",
       "[1085 rows x 20 columns]"
      ]
     },
     "execution_count": 64,
     "metadata": {},
     "output_type": "execute_result"
    }
   ],
   "source": [
    "df.dropna(how='all')"
   ]
  },
  {
   "cell_type": "code",
   "execution_count": 65,
   "metadata": {},
   "outputs": [
    {
     "data": {
      "text/plain": [
       "NaN      197\n",
       "1.0       37\n",
       "2.0       24\n",
       "3.0       22\n",
       "6.0       19\n",
       "        ... \n",
       "147.0      1\n",
       "141.0      1\n",
       "135.0      1\n",
       "129.0      1\n",
       "136.0      1\n",
       "Name: case_in_country, Length: 198, dtype: int64"
      ]
     },
     "execution_count": 65,
     "metadata": {},
     "output_type": "execute_result"
    }
   ],
   "source": [
    "df['case_in_country'].value_counts(dropna=False)\n"
   ]
  },
  {
   "cell_type": "code",
   "execution_count": 66,
   "metadata": {},
   "outputs": [],
   "source": [
    "df.dropna(subset=['case_in_country'],inplace=True)"
   ]
  },
  {
   "cell_type": "markdown",
   "metadata": {},
   "source": [
    "## Is it okay to use dates like this?\n",
    "## I am not able find a way to convert them to a single proper format of %m%d%y.\n",
    "## some dates are in the format: 02/08/20"
   ]
  },
  {
   "cell_type": "code",
   "execution_count": null,
   "metadata": {},
   "outputs": [],
   "source": []
  },
  {
   "cell_type": "code",
   "execution_count": 68,
   "metadata": {},
   "outputs": [
    {
     "data": {
      "text/plain": [
       "2/27/2020    91\n",
       "2/20/2020    73\n",
       "2/26/2020    54\n",
       "2/25/2020    46\n",
       "2/19/2020    42\n",
       "2/21/2020    35\n",
       "2/24/2020    33\n",
       "2/22/2020    31\n",
       "1/31/2020    28\n",
       "02/08/20     26\n",
       "2/23/2020    26\n",
       "2/28/2020    25\n",
       "02/06/20     24\n",
       "02/04/20     24\n",
       "1/30/2020    23\n",
       "02/05/20     22\n",
       "2/14/2020    21\n",
       "1/29/2020    20\n",
       "02/09/20     19\n",
       "02/10/20     19\n",
       "2/13/2020    18\n",
       "1/28/2020    18\n",
       "2/16/2020    16\n",
       "2/17/2020    14\n",
       "2/15/2020    13\n",
       "2/18/2020    13\n",
       "02/11/20     13\n",
       "1/24/2020    13\n",
       "1/25/2020    13\n",
       "02/01/20     12\n",
       "02/02/20     10\n",
       "1/27/2020     9\n",
       "1/26/2020     9\n",
       "02/07/20      8\n",
       "02/03/20      7\n",
       "02/12/20      6\n",
       "1/22/2020     5\n",
       "1/23/2020     2\n",
       "1/21/2020     2\n",
       "1/15/2020     1\n",
       "1/17/2020     1\n",
       "1/13/2020     1\n",
       "1/20/2020     1\n",
       "NaN           1\n",
       "Name: reporting date, dtype: int64"
      ]
     },
     "execution_count": 68,
     "metadata": {},
     "output_type": "execute_result"
    }
   ],
   "source": [
    "df['reporting date'].value_counts(dropna=False)"
   ]
  },
  {
   "cell_type": "code",
   "execution_count": 162,
   "metadata": {},
   "outputs": [
    {
     "data": {
      "text/html": [
       "<div>\n",
       "<style scoped>\n",
       "    .dataframe tbody tr th:only-of-type {\n",
       "        vertical-align: middle;\n",
       "    }\n",
       "\n",
       "    .dataframe tbody tr th {\n",
       "        vertical-align: top;\n",
       "    }\n",
       "\n",
       "    .dataframe thead th {\n",
       "        text-align: right;\n",
       "    }\n",
       "</style>\n",
       "<table border=\"1\" class=\"dataframe\">\n",
       "  <thead>\n",
       "    <tr style=\"text-align: right;\">\n",
       "      <th></th>\n",
       "      <th>id</th>\n",
       "      <th>case_in_country</th>\n",
       "      <th>reporting date</th>\n",
       "      <th>summary</th>\n",
       "      <th>location</th>\n",
       "      <th>country</th>\n",
       "      <th>gender</th>\n",
       "      <th>age</th>\n",
       "      <th>symptom_onset</th>\n",
       "      <th>If_onset_approximated</th>\n",
       "      <th>hosp_visit_date</th>\n",
       "      <th>exposure_start</th>\n",
       "      <th>exposure_end</th>\n",
       "      <th>visiting Wuhan</th>\n",
       "      <th>from Wuhan</th>\n",
       "      <th>death</th>\n",
       "      <th>recovered</th>\n",
       "      <th>symptom</th>\n",
       "      <th>source</th>\n",
       "      <th>link</th>\n",
       "    </tr>\n",
       "  </thead>\n",
       "  <tbody>\n",
       "    <tr>\n",
       "      <th>197</th>\n",
       "      <td>198</td>\n",
       "      <td>1.0</td>\n",
       "      <td>1/25/2020</td>\n",
       "      <td>new confirmed COVID-19 patient in Bordeaux, Fr...</td>\n",
       "      <td>Bordeaux</td>\n",
       "      <td>France</td>\n",
       "      <td>male</td>\n",
       "      <td>48</td>\n",
       "      <td>1/23/2020</td>\n",
       "      <td>0</td>\n",
       "      <td>1/23/2020</td>\n",
       "      <td>No date</td>\n",
       "      <td>1/22/2020</td>\n",
       "      <td>1</td>\n",
       "      <td>0.0</td>\n",
       "      <td>No Date</td>\n",
       "      <td>No Date</td>\n",
       "      <td>Not identified</td>\n",
       "      <td>CNBC</td>\n",
       "      <td>https://www.cnbc.com/2020/01/25/reuters-americ...</td>\n",
       "    </tr>\n",
       "    <tr>\n",
       "      <th>198</th>\n",
       "      <td>199</td>\n",
       "      <td>2.0</td>\n",
       "      <td>1/25/2020</td>\n",
       "      <td>new confirmed COVID-19 patient in Paris, Franc...</td>\n",
       "      <td>Paris</td>\n",
       "      <td>France</td>\n",
       "      <td>male</td>\n",
       "      <td>31</td>\n",
       "      <td>1/19/2020</td>\n",
       "      <td>0</td>\n",
       "      <td>1/19/2020</td>\n",
       "      <td>No date</td>\n",
       "      <td>1/18/2020</td>\n",
       "      <td>0</td>\n",
       "      <td>1.0</td>\n",
       "      <td>No Date</td>\n",
       "      <td>02/12/20</td>\n",
       "      <td>Not identified</td>\n",
       "      <td>CGTN</td>\n",
       "      <td>https://newseu.cgtn.com/news/2020-01-26/Corona...</td>\n",
       "    </tr>\n",
       "    <tr>\n",
       "      <th>199</th>\n",
       "      <td>200</td>\n",
       "      <td>3.0</td>\n",
       "      <td>1/25/2020</td>\n",
       "      <td>new confirmed COVID-19 patient in Paris, Franc...</td>\n",
       "      <td>Paris</td>\n",
       "      <td>France</td>\n",
       "      <td>female</td>\n",
       "      <td>30</td>\n",
       "      <td>1/23/2020</td>\n",
       "      <td>0</td>\n",
       "      <td>1/23/2020</td>\n",
       "      <td>No date</td>\n",
       "      <td>1/19/2020</td>\n",
       "      <td>0</td>\n",
       "      <td>1.0</td>\n",
       "      <td>No Date</td>\n",
       "      <td>02/12/20</td>\n",
       "      <td>Not identified</td>\n",
       "      <td>CGTN</td>\n",
       "      <td>https://newseu.cgtn.com/news/2020-01-26/Corona...</td>\n",
       "    </tr>\n",
       "    <tr>\n",
       "      <th>200</th>\n",
       "      <td>201</td>\n",
       "      <td>4.0</td>\n",
       "      <td>1/28/2020</td>\n",
       "      <td>new confirmed COVID-19 patient in Paris, Franc...</td>\n",
       "      <td>Paris</td>\n",
       "      <td>France</td>\n",
       "      <td>male</td>\n",
       "      <td>80</td>\n",
       "      <td>1/25/2020</td>\n",
       "      <td>1</td>\n",
       "      <td>1/25/2020</td>\n",
       "      <td>No date</td>\n",
       "      <td>1/23/2020</td>\n",
       "      <td>0</td>\n",
       "      <td>1.0</td>\n",
       "      <td>2/14/2020</td>\n",
       "      <td>No Date</td>\n",
       "      <td>Not identified</td>\n",
       "      <td>The Local</td>\n",
       "      <td>https://www.thelocal.de/20200128/number-of-ger...</td>\n",
       "    </tr>\n",
       "    <tr>\n",
       "      <th>201</th>\n",
       "      <td>202</td>\n",
       "      <td>5.0</td>\n",
       "      <td>1/29/2020</td>\n",
       "      <td>new confirmed COVID-19 patient in Paris, Franc...</td>\n",
       "      <td>Paris</td>\n",
       "      <td>France</td>\n",
       "      <td>female</td>\n",
       "      <td>No age</td>\n",
       "      <td>No date</td>\n",
       "      <td>NaN</td>\n",
       "      <td>No date</td>\n",
       "      <td>No date</td>\n",
       "      <td>1/23/2020</td>\n",
       "      <td>1</td>\n",
       "      <td>0.0</td>\n",
       "      <td>No Date</td>\n",
       "      <td>No Date</td>\n",
       "      <td>Not identified</td>\n",
       "      <td>The Local</td>\n",
       "      <td>https://www.thelocal.fr/20200131/coronavirus-i...</td>\n",
       "    </tr>\n",
       "  </tbody>\n",
       "</table>\n",
       "</div>"
      ],
      "text/plain": [
       "      id  case_in_country reporting date  \\\n",
       "197  198              1.0      1/25/2020   \n",
       "198  199              2.0      1/25/2020   \n",
       "199  200              3.0      1/25/2020   \n",
       "200  201              4.0      1/28/2020   \n",
       "201  202              5.0      1/29/2020   \n",
       "\n",
       "                                               summary  location country  \\\n",
       "197  new confirmed COVID-19 patient in Bordeaux, Fr...  Bordeaux  France   \n",
       "198  new confirmed COVID-19 patient in Paris, Franc...     Paris  France   \n",
       "199  new confirmed COVID-19 patient in Paris, Franc...     Paris  France   \n",
       "200  new confirmed COVID-19 patient in Paris, Franc...     Paris  France   \n",
       "201  new confirmed COVID-19 patient in Paris, Franc...     Paris  France   \n",
       "\n",
       "     gender     age symptom_onset If_onset_approximated hosp_visit_date  \\\n",
       "197    male      48     1/23/2020                     0       1/23/2020   \n",
       "198    male      31     1/19/2020                     0       1/19/2020   \n",
       "199  female      30     1/23/2020                     0       1/23/2020   \n",
       "200    male      80     1/25/2020                     1       1/25/2020   \n",
       "201  female  No age       No date                   NaN         No date   \n",
       "\n",
       "    exposure_start exposure_end  visiting Wuhan  from Wuhan      death  \\\n",
       "197        No date    1/22/2020               1         0.0    No Date   \n",
       "198        No date    1/18/2020               0         1.0    No Date   \n",
       "199        No date    1/19/2020               0         1.0    No Date   \n",
       "200        No date    1/23/2020               0         1.0  2/14/2020   \n",
       "201        No date    1/23/2020               1         0.0    No Date   \n",
       "\n",
       "    recovered         symptom     source  \\\n",
       "197   No Date  Not identified       CNBC   \n",
       "198  02/12/20  Not identified       CGTN   \n",
       "199  02/12/20  Not identified       CGTN   \n",
       "200   No Date  Not identified  The Local   \n",
       "201   No Date  Not identified  The Local   \n",
       "\n",
       "                                                  link  \n",
       "197  https://www.cnbc.com/2020/01/25/reuters-americ...  \n",
       "198  https://newseu.cgtn.com/news/2020-01-26/Corona...  \n",
       "199  https://newseu.cgtn.com/news/2020-01-26/Corona...  \n",
       "200  https://www.thelocal.de/20200128/number-of-ger...  \n",
       "201  https://www.thelocal.fr/20200131/coronavirus-i...  "
      ]
     },
     "execution_count": 162,
     "metadata": {},
     "output_type": "execute_result"
    }
   ],
   "source": [
    "df.head()"
   ]
  },
  {
   "cell_type": "code",
   "execution_count": null,
   "metadata": {},
   "outputs": [],
   "source": []
  },
  {
   "cell_type": "code",
   "execution_count": null,
   "metadata": {},
   "outputs": [],
   "source": []
  },
  {
   "cell_type": "code",
   "execution_count": 88,
   "metadata": {},
   "outputs": [
    {
     "data": {
      "text/plain": [
       "197    2020-01-25\n",
       "198    2020-01-25\n",
       "199    2020-01-25\n",
       "200    2020-01-28\n",
       "201    2020-01-29\n",
       "          ...    \n",
       "1080   2020-02-25\n",
       "1081   2020-02-24\n",
       "1082   2020-02-26\n",
       "1083   2020-02-25\n",
       "1084   2020-02-25\n",
       "Name: reporting date, Length: 887, dtype: datetime64[ns]"
      ]
     },
     "execution_count": 88,
     "metadata": {},
     "output_type": "execute_result"
    }
   ],
   "source": [
    "pd.to_datetime(df['reporting date'].astype(str), format='%m/%d/%Y',errors='coerce')"
   ]
  },
  {
   "cell_type": "code",
   "execution_count": 91,
   "metadata": {},
   "outputs": [
    {
     "data": {
      "text/plain": [
       "0"
      ]
     },
     "execution_count": 91,
     "metadata": {},
     "output_type": "execute_result"
    }
   ],
   "source": [
    "df['reporting date'].isnull().sum()"
   ]
  },
  {
   "cell_type": "code",
   "execution_count": 92,
   "metadata": {},
   "outputs": [],
   "source": [
    "df.dropna(subset=['reporting date'],inplace=True)"
   ]
  },
  {
   "cell_type": "code",
   "execution_count": 93,
   "metadata": {},
   "outputs": [
    {
     "data": {
      "text/html": [
       "<div>\n",
       "<style scoped>\n",
       "    .dataframe tbody tr th:only-of-type {\n",
       "        vertical-align: middle;\n",
       "    }\n",
       "\n",
       "    .dataframe tbody tr th {\n",
       "        vertical-align: top;\n",
       "    }\n",
       "\n",
       "    .dataframe thead th {\n",
       "        text-align: right;\n",
       "    }\n",
       "</style>\n",
       "<table border=\"1\" class=\"dataframe\">\n",
       "  <thead>\n",
       "    <tr style=\"text-align: right;\">\n",
       "      <th></th>\n",
       "      <th>id</th>\n",
       "      <th>case_in_country</th>\n",
       "      <th>reporting date</th>\n",
       "      <th>summary</th>\n",
       "      <th>location</th>\n",
       "      <th>country</th>\n",
       "      <th>gender</th>\n",
       "      <th>age</th>\n",
       "      <th>symptom_onset</th>\n",
       "      <th>If_onset_approximated</th>\n",
       "      <th>hosp_visit_date</th>\n",
       "      <th>exposure_start</th>\n",
       "      <th>exposure_end</th>\n",
       "      <th>visiting Wuhan</th>\n",
       "      <th>from Wuhan</th>\n",
       "      <th>death</th>\n",
       "      <th>recovered</th>\n",
       "      <th>symptom</th>\n",
       "      <th>source</th>\n",
       "      <th>link</th>\n",
       "    </tr>\n",
       "  </thead>\n",
       "  <tbody>\n",
       "    <tr>\n",
       "      <th>197</th>\n",
       "      <td>198</td>\n",
       "      <td>1.0</td>\n",
       "      <td>1/25/2020</td>\n",
       "      <td>new confirmed COVID-19 patient in Bordeaux, Fr...</td>\n",
       "      <td>Bordeaux</td>\n",
       "      <td>France</td>\n",
       "      <td>male</td>\n",
       "      <td>48.0</td>\n",
       "      <td>1/23/2020</td>\n",
       "      <td>0.0</td>\n",
       "      <td>1/23/2020</td>\n",
       "      <td>NaN</td>\n",
       "      <td>1/22/2020</td>\n",
       "      <td>1</td>\n",
       "      <td>0.0</td>\n",
       "      <td>0</td>\n",
       "      <td>0</td>\n",
       "      <td>NaN</td>\n",
       "      <td>CNBC</td>\n",
       "      <td>https://www.cnbc.com/2020/01/25/reuters-americ...</td>\n",
       "    </tr>\n",
       "    <tr>\n",
       "      <th>198</th>\n",
       "      <td>199</td>\n",
       "      <td>2.0</td>\n",
       "      <td>1/25/2020</td>\n",
       "      <td>new confirmed COVID-19 patient in Paris, Franc...</td>\n",
       "      <td>Paris</td>\n",
       "      <td>France</td>\n",
       "      <td>male</td>\n",
       "      <td>31.0</td>\n",
       "      <td>1/19/2020</td>\n",
       "      <td>0.0</td>\n",
       "      <td>1/25/2020</td>\n",
       "      <td>NaN</td>\n",
       "      <td>1/18/2020</td>\n",
       "      <td>0</td>\n",
       "      <td>1.0</td>\n",
       "      <td>0</td>\n",
       "      <td>02/12/20</td>\n",
       "      <td>NaN</td>\n",
       "      <td>CGTN</td>\n",
       "      <td>https://newseu.cgtn.com/news/2020-01-26/Corona...</td>\n",
       "    </tr>\n",
       "    <tr>\n",
       "      <th>199</th>\n",
       "      <td>200</td>\n",
       "      <td>3.0</td>\n",
       "      <td>1/25/2020</td>\n",
       "      <td>new confirmed COVID-19 patient in Paris, Franc...</td>\n",
       "      <td>Paris</td>\n",
       "      <td>France</td>\n",
       "      <td>female</td>\n",
       "      <td>30.0</td>\n",
       "      <td>1/23/2020</td>\n",
       "      <td>0.0</td>\n",
       "      <td>1/25/2020</td>\n",
       "      <td>NaN</td>\n",
       "      <td>1/19/2020</td>\n",
       "      <td>0</td>\n",
       "      <td>1.0</td>\n",
       "      <td>0</td>\n",
       "      <td>02/12/20</td>\n",
       "      <td>NaN</td>\n",
       "      <td>CGTN</td>\n",
       "      <td>https://newseu.cgtn.com/news/2020-01-26/Corona...</td>\n",
       "    </tr>\n",
       "    <tr>\n",
       "      <th>200</th>\n",
       "      <td>201</td>\n",
       "      <td>4.0</td>\n",
       "      <td>1/28/2020</td>\n",
       "      <td>new confirmed COVID-19 patient in Paris, Franc...</td>\n",
       "      <td>Paris</td>\n",
       "      <td>France</td>\n",
       "      <td>male</td>\n",
       "      <td>80.0</td>\n",
       "      <td>1/25/2020</td>\n",
       "      <td>1.0</td>\n",
       "      <td>1/25/2020</td>\n",
       "      <td>NaN</td>\n",
       "      <td>1/23/2020</td>\n",
       "      <td>0</td>\n",
       "      <td>1.0</td>\n",
       "      <td>2/14/2020</td>\n",
       "      <td>0</td>\n",
       "      <td>NaN</td>\n",
       "      <td>The Local</td>\n",
       "      <td>https://www.thelocal.de/20200128/number-of-ger...</td>\n",
       "    </tr>\n",
       "    <tr>\n",
       "      <th>201</th>\n",
       "      <td>202</td>\n",
       "      <td>5.0</td>\n",
       "      <td>1/29/2020</td>\n",
       "      <td>new confirmed COVID-19 patient in Paris, Franc...</td>\n",
       "      <td>Paris</td>\n",
       "      <td>France</td>\n",
       "      <td>female</td>\n",
       "      <td>NaN</td>\n",
       "      <td>NaN</td>\n",
       "      <td>NaN</td>\n",
       "      <td>NaN</td>\n",
       "      <td>NaN</td>\n",
       "      <td>1/23/2020</td>\n",
       "      <td>1</td>\n",
       "      <td>0.0</td>\n",
       "      <td>0</td>\n",
       "      <td>0</td>\n",
       "      <td>NaN</td>\n",
       "      <td>The Local</td>\n",
       "      <td>https://www.thelocal.fr/20200131/coronavirus-i...</td>\n",
       "    </tr>\n",
       "    <tr>\n",
       "      <th>...</th>\n",
       "      <td>...</td>\n",
       "      <td>...</td>\n",
       "      <td>...</td>\n",
       "      <td>...</td>\n",
       "      <td>...</td>\n",
       "      <td>...</td>\n",
       "      <td>...</td>\n",
       "      <td>...</td>\n",
       "      <td>...</td>\n",
       "      <td>...</td>\n",
       "      <td>...</td>\n",
       "      <td>...</td>\n",
       "      <td>...</td>\n",
       "      <td>...</td>\n",
       "      <td>...</td>\n",
       "      <td>...</td>\n",
       "      <td>...</td>\n",
       "      <td>...</td>\n",
       "      <td>...</td>\n",
       "      <td>...</td>\n",
       "    </tr>\n",
       "    <tr>\n",
       "      <th>1080</th>\n",
       "      <td>1081</td>\n",
       "      <td>2.0</td>\n",
       "      <td>2/25/2020</td>\n",
       "      <td>new COVID-19 patient confirmed in Austria: 24,...</td>\n",
       "      <td>Innsbruck</td>\n",
       "      <td>Austria</td>\n",
       "      <td>NaN</td>\n",
       "      <td>24.0</td>\n",
       "      <td>NaN</td>\n",
       "      <td>NaN</td>\n",
       "      <td>NaN</td>\n",
       "      <td>NaN</td>\n",
       "      <td>NaN</td>\n",
       "      <td>0</td>\n",
       "      <td>0.0</td>\n",
       "      <td>0</td>\n",
       "      <td>0</td>\n",
       "      <td>NaN</td>\n",
       "      <td>Jakarta Post</td>\n",
       "      <td>https://www.thejakartapost.com/news/2020/02/25...</td>\n",
       "    </tr>\n",
       "    <tr>\n",
       "      <th>1081</th>\n",
       "      <td>1082</td>\n",
       "      <td>1.0</td>\n",
       "      <td>2/24/2020</td>\n",
       "      <td>new COVID-19 patient confirmed in Afghanistan:...</td>\n",
       "      <td>Afghanistan</td>\n",
       "      <td>Afghanistan</td>\n",
       "      <td>NaN</td>\n",
       "      <td>35.0</td>\n",
       "      <td>NaN</td>\n",
       "      <td>NaN</td>\n",
       "      <td>NaN</td>\n",
       "      <td>NaN</td>\n",
       "      <td>NaN</td>\n",
       "      <td>0</td>\n",
       "      <td>0.0</td>\n",
       "      <td>0</td>\n",
       "      <td>0</td>\n",
       "      <td>NaN</td>\n",
       "      <td>Fox News</td>\n",
       "      <td>https://www.foxnews.com/health/afghanistan-fir...</td>\n",
       "    </tr>\n",
       "    <tr>\n",
       "      <th>1082</th>\n",
       "      <td>1083</td>\n",
       "      <td>1.0</td>\n",
       "      <td>2/26/2020</td>\n",
       "      <td>new COVID-19 patient confirmed in Algeria: mal...</td>\n",
       "      <td>Algeria</td>\n",
       "      <td>Algeria</td>\n",
       "      <td>male</td>\n",
       "      <td>NaN</td>\n",
       "      <td>NaN</td>\n",
       "      <td>NaN</td>\n",
       "      <td>NaN</td>\n",
       "      <td>NaN</td>\n",
       "      <td>2/17/2020</td>\n",
       "      <td>0</td>\n",
       "      <td>0.0</td>\n",
       "      <td>0</td>\n",
       "      <td>0</td>\n",
       "      <td>NaN</td>\n",
       "      <td>South China Morning Post</td>\n",
       "      <td>https://www.scmp.com/news/china/society/articl...</td>\n",
       "    </tr>\n",
       "    <tr>\n",
       "      <th>1083</th>\n",
       "      <td>1084</td>\n",
       "      <td>1.0</td>\n",
       "      <td>2/25/2020</td>\n",
       "      <td>new COVID-19 patient confirmed in Croatia: mal...</td>\n",
       "      <td>Croatia</td>\n",
       "      <td>Croatia</td>\n",
       "      <td>male</td>\n",
       "      <td>NaN</td>\n",
       "      <td>NaN</td>\n",
       "      <td>NaN</td>\n",
       "      <td>NaN</td>\n",
       "      <td>2/19/2020</td>\n",
       "      <td>2/21/2020</td>\n",
       "      <td>0</td>\n",
       "      <td>0.0</td>\n",
       "      <td>0</td>\n",
       "      <td>0</td>\n",
       "      <td>NaN</td>\n",
       "      <td>Reuters</td>\n",
       "      <td>https://www.reuters.com/article/us-croatia-cor...</td>\n",
       "    </tr>\n",
       "    <tr>\n",
       "      <th>1084</th>\n",
       "      <td>1085</td>\n",
       "      <td>1.0</td>\n",
       "      <td>2/25/2020</td>\n",
       "      <td>new COVID-19 patient confirmed in Switzerland:...</td>\n",
       "      <td>Bern</td>\n",
       "      <td>Switzerland</td>\n",
       "      <td>male</td>\n",
       "      <td>70.0</td>\n",
       "      <td>2/17/2020</td>\n",
       "      <td>NaN</td>\n",
       "      <td>NaN</td>\n",
       "      <td>2/15/2020</td>\n",
       "      <td>2/15/2020</td>\n",
       "      <td>0</td>\n",
       "      <td>0.0</td>\n",
       "      <td>0</td>\n",
       "      <td>0</td>\n",
       "      <td>NaN</td>\n",
       "      <td>Reuters</td>\n",
       "      <td>https://www.reuters.com/article/uk-switzerland...</td>\n",
       "    </tr>\n",
       "  </tbody>\n",
       "</table>\n",
       "<p>887 rows × 20 columns</p>\n",
       "</div>"
      ],
      "text/plain": [
       "        id  case_in_country reporting date  \\\n",
       "197    198              1.0      1/25/2020   \n",
       "198    199              2.0      1/25/2020   \n",
       "199    200              3.0      1/25/2020   \n",
       "200    201              4.0      1/28/2020   \n",
       "201    202              5.0      1/29/2020   \n",
       "...    ...              ...            ...   \n",
       "1080  1081              2.0      2/25/2020   \n",
       "1081  1082              1.0      2/24/2020   \n",
       "1082  1083              1.0      2/26/2020   \n",
       "1083  1084              1.0      2/25/2020   \n",
       "1084  1085              1.0      2/25/2020   \n",
       "\n",
       "                                                summary     location  \\\n",
       "197   new confirmed COVID-19 patient in Bordeaux, Fr...     Bordeaux   \n",
       "198   new confirmed COVID-19 patient in Paris, Franc...        Paris   \n",
       "199   new confirmed COVID-19 patient in Paris, Franc...        Paris   \n",
       "200   new confirmed COVID-19 patient in Paris, Franc...        Paris   \n",
       "201   new confirmed COVID-19 patient in Paris, Franc...        Paris   \n",
       "...                                                 ...          ...   \n",
       "1080  new COVID-19 patient confirmed in Austria: 24,...    Innsbruck   \n",
       "1081  new COVID-19 patient confirmed in Afghanistan:...  Afghanistan   \n",
       "1082  new COVID-19 patient confirmed in Algeria: mal...      Algeria   \n",
       "1083  new COVID-19 patient confirmed in Croatia: mal...      Croatia   \n",
       "1084  new COVID-19 patient confirmed in Switzerland:...         Bern   \n",
       "\n",
       "          country  gender   age symptom_onset  If_onset_approximated  \\\n",
       "197        France    male  48.0     1/23/2020                    0.0   \n",
       "198        France    male  31.0     1/19/2020                    0.0   \n",
       "199        France  female  30.0     1/23/2020                    0.0   \n",
       "200        France    male  80.0     1/25/2020                    1.0   \n",
       "201        France  female   NaN           NaN                    NaN   \n",
       "...           ...     ...   ...           ...                    ...   \n",
       "1080      Austria     NaN  24.0           NaN                    NaN   \n",
       "1081  Afghanistan     NaN  35.0           NaN                    NaN   \n",
       "1082      Algeria    male   NaN           NaN                    NaN   \n",
       "1083      Croatia    male   NaN           NaN                    NaN   \n",
       "1084  Switzerland    male  70.0     2/17/2020                    NaN   \n",
       "\n",
       "     hosp_visit_date exposure_start exposure_end  visiting Wuhan  from Wuhan  \\\n",
       "197        1/23/2020            NaN    1/22/2020               1         0.0   \n",
       "198        1/25/2020            NaN    1/18/2020               0         1.0   \n",
       "199        1/25/2020            NaN    1/19/2020               0         1.0   \n",
       "200        1/25/2020            NaN    1/23/2020               0         1.0   \n",
       "201              NaN            NaN    1/23/2020               1         0.0   \n",
       "...              ...            ...          ...             ...         ...   \n",
       "1080             NaN            NaN          NaN               0         0.0   \n",
       "1081             NaN            NaN          NaN               0         0.0   \n",
       "1082             NaN            NaN    2/17/2020               0         0.0   \n",
       "1083             NaN      2/19/2020    2/21/2020               0         0.0   \n",
       "1084             NaN      2/15/2020    2/15/2020               0         0.0   \n",
       "\n",
       "          death recovered symptom                    source  \\\n",
       "197           0         0     NaN                      CNBC   \n",
       "198           0  02/12/20     NaN                      CGTN   \n",
       "199           0  02/12/20     NaN                      CGTN   \n",
       "200   2/14/2020         0     NaN                 The Local   \n",
       "201           0         0     NaN                 The Local   \n",
       "...         ...       ...     ...                       ...   \n",
       "1080          0         0     NaN              Jakarta Post   \n",
       "1081          0         0     NaN                  Fox News   \n",
       "1082          0         0     NaN  South China Morning Post   \n",
       "1083          0         0     NaN                   Reuters   \n",
       "1084          0         0     NaN                   Reuters   \n",
       "\n",
       "                                                   link  \n",
       "197   https://www.cnbc.com/2020/01/25/reuters-americ...  \n",
       "198   https://newseu.cgtn.com/news/2020-01-26/Corona...  \n",
       "199   https://newseu.cgtn.com/news/2020-01-26/Corona...  \n",
       "200   https://www.thelocal.de/20200128/number-of-ger...  \n",
       "201   https://www.thelocal.fr/20200131/coronavirus-i...  \n",
       "...                                                 ...  \n",
       "1080  https://www.thejakartapost.com/news/2020/02/25...  \n",
       "1081  https://www.foxnews.com/health/afghanistan-fir...  \n",
       "1082  https://www.scmp.com/news/china/society/articl...  \n",
       "1083  https://www.reuters.com/article/us-croatia-cor...  \n",
       "1084  https://www.reuters.com/article/uk-switzerland...  \n",
       "\n",
       "[887 rows x 20 columns]"
      ]
     },
     "execution_count": 93,
     "metadata": {},
     "output_type": "execute_result"
    }
   ],
   "source": [
    "df"
   ]
  },
  {
   "cell_type": "code",
   "execution_count": 94,
   "metadata": {},
   "outputs": [
    {
     "data": {
      "text/plain": [
       "new confirmed COVID-19 patient in South Korea:                                                                                                                                                                                        22\n",
       "new confirmed COVID-19 patient in Germany: NRW                                                                                                                                                                                        14\n",
       "new confirmed COVID-19 patient in Iran: Qom                                                                                                                                                                                            9\n",
       "new confirmed COVID-19 patient in Kuwait: returned from Iran                                                                                                                                                                           8\n",
       "new confirmed COVID-19 patient in Thailand: Chinese national                                                                                                                                                                           5\n",
       "                                                                                                                                                                                                                                      ..\n",
       "new confirmed COVID-19 patient in Japan: Nagoya, male, 60s, fever, cough, headache, went to doctor 2/26                                                                                                                                1\n",
       "new confirmed COVID-19 patient in Japan: Nagoya City, female, 70s, fever, cough, sore throat, runny nose and went to doctor 2/24                                                                                                       1\n",
       "new confirmed COVID-19 patient in Japan: Hokkaido, female, 70s, fever and malaise 2/17, went to doctor 2/20, emergency transport to hospital 2/24                                                                                      1\n",
       "new confirmed COVID-19 patient in Singapore: male, 32, evacuated from Wuhan 2/9                                                                                                                                                        1\n",
       "new confirmed COVID-19 patient in Japan: female, 40s, lives in Kanagawa Prefecture symptom onset 2/14 (fever, vomiting, diarrhea), went to medical consultation 2/14, worked at a hospital where infected patient was from 2/1-2/5     1\n",
       "Name: summary, Length: 775, dtype: int64"
      ]
     },
     "execution_count": 94,
     "metadata": {},
     "output_type": "execute_result"
    }
   ],
   "source": [
    "df['summary'].value_counts(dropna=False)"
   ]
  },
  {
   "cell_type": "code",
   "execution_count": 95,
   "metadata": {},
   "outputs": [
    {
     "data": {
      "text/plain": [
       "0"
      ]
     },
     "execution_count": 95,
     "metadata": {},
     "output_type": "execute_result"
    }
   ],
   "source": [
    "df['summary'].isnull().sum()"
   ]
  },
  {
   "cell_type": "code",
   "execution_count": 96,
   "metadata": {},
   "outputs": [
    {
     "data": {
      "text/plain": [
       "South Korea    112\n",
       "Singapore       93\n",
       "Hong Kong       80\n",
       "Hokkaido        48\n",
       "Thailand        41\n",
       "              ... \n",
       "Castellon        1\n",
       "Lebanon          1\n",
       "Israel           1\n",
       "Langkawi         1\n",
       "Montpellier      1\n",
       "Name: location, Length: 125, dtype: int64"
      ]
     },
     "execution_count": 96,
     "metadata": {},
     "output_type": "execute_result"
    }
   ],
   "source": [
    "df['location'].value_counts(dropna=False)"
   ]
  },
  {
   "cell_type": "code",
   "execution_count": 97,
   "metadata": {},
   "outputs": [
    {
     "data": {
      "text/plain": [
       "0"
      ]
     },
     "execution_count": 97,
     "metadata": {},
     "output_type": "execute_result"
    }
   ],
   "source": [
    "df['location'].isnull().sum()"
   ]
  },
  {
   "cell_type": "code",
   "execution_count": 98,
   "metadata": {},
   "outputs": [],
   "source": [
    "df.dropna(subset=['location'],inplace=True)"
   ]
  },
  {
   "cell_type": "code",
   "execution_count": 99,
   "metadata": {},
   "outputs": [
    {
     "data": {
      "text/plain": [
       "Japan          189\n",
       "South Korea    114\n",
       "Hong Kong       94\n",
       "Singapore       93\n",
       "Germany         54\n",
       "Thailand        41\n",
       "France          39\n",
       "Taiwan          34\n",
       "Spain           34\n",
       "Malaysia        23\n",
       "UAE             21\n",
       "UK              20\n",
       "USA             18\n",
       "Iran            18\n",
       "Bahrain         17\n",
       "Vietnam         16\n",
       "Australia       15\n",
       "Canada          12\n",
       "Kuwait           9\n",
       "Phillipines      3\n",
       "India            3\n",
       "Italy            3\n",
       "Russia           2\n",
       "Austria          2\n",
       "Belgium          1\n",
       "Switzerland      1\n",
       "Egypt            1\n",
       "Algeria          1\n",
       "Croatia          1\n",
       "Sweden           1\n",
       "Cambodia         1\n",
       "Lebanon          1\n",
       "Finland          1\n",
       "Sri Lanka        1\n",
       "Afghanistan      1\n",
       "Israel           1\n",
       "Nepal            1\n",
       "Name: country, dtype: int64"
      ]
     },
     "execution_count": 99,
     "metadata": {},
     "output_type": "execute_result"
    }
   ],
   "source": [
    "df['country'].value_counts(dropna=False)"
   ]
  },
  {
   "cell_type": "code",
   "execution_count": null,
   "metadata": {},
   "outputs": [],
   "source": []
  },
  {
   "cell_type": "code",
   "execution_count": 100,
   "metadata": {},
   "outputs": [
    {
     "data": {
      "text/plain": [
       "male      396\n",
       "female    309\n",
       "NaN       182\n",
       "Name: gender, dtype: int64"
      ]
     },
     "execution_count": 100,
     "metadata": {},
     "output_type": "execute_result"
    }
   ],
   "source": [
    "df['gender'].value_counts(dropna=False)"
   ]
  },
  {
   "cell_type": "code",
   "execution_count": 101,
   "metadata": {},
   "outputs": [],
   "source": [
    "df['gender'].fillna('No Gender', inplace = True)"
   ]
  },
  {
   "cell_type": "code",
   "execution_count": 102,
   "metadata": {},
   "outputs": [
    {
     "data": {
      "text/plain": [
       "NaN     234\n",
       "55.0     68\n",
       "65.0     48\n",
       "75.0     36\n",
       "45.0     36\n",
       "       ... \n",
       "82.0      1\n",
       "4.0       1\n",
       "6.0       1\n",
       "20.0      1\n",
       "81.0      1\n",
       "Name: age, Length: 82, dtype: int64"
      ]
     },
     "execution_count": 102,
     "metadata": {},
     "output_type": "execute_result"
    }
   ],
   "source": [
    "df['age'].value_counts(dropna=False)"
   ]
  },
  {
   "cell_type": "code",
   "execution_count": 103,
   "metadata": {},
   "outputs": [],
   "source": [
    "df['age']=df['age'].astype('object')"
   ]
  },
  {
   "cell_type": "code",
   "execution_count": 104,
   "metadata": {},
   "outputs": [],
   "source": [
    "df['age'].fillna('No age', inplace = True)"
   ]
  },
  {
   "cell_type": "code",
   "execution_count": 105,
   "metadata": {},
   "outputs": [
    {
     "data": {
      "text/plain": [
       "0"
      ]
     },
     "execution_count": 105,
     "metadata": {},
     "output_type": "execute_result"
    }
   ],
   "source": [
    "df['age'].isnull().sum()"
   ]
  },
  {
   "cell_type": "code",
   "execution_count": 106,
   "metadata": {},
   "outputs": [
    {
     "data": {
      "text/plain": [
       "NaN          468\n",
       "1/23/2020     19\n",
       "1/30/2020     19\n",
       "02/03/20      18\n",
       "1/25/2020     17\n",
       "2/16/2020     17\n",
       "1/24/2020     16\n",
       "2/20/2020     16\n",
       "1/28/2020     15\n",
       "02/01/20      15\n",
       "2/17/2020     13\n",
       "02/12/20      13\n",
       "2/14/2020     12\n",
       "1/26/2020     12\n",
       "02/08/20      11\n",
       "02/06/20      11\n",
       "02/04/20      11\n",
       "02/02/20      11\n",
       "02/10/20      10\n",
       "1/29/2020     10\n",
       "2/24/2020      9\n",
       "1/21/2020      9\n",
       "2/13/2020      9\n",
       "1/22/2020      8\n",
       "1/20/2020      8\n",
       "2/19/2020      8\n",
       "1/27/2020      8\n",
       "1/31/2020      8\n",
       "02/07/20       8\n",
       "02/09/20       7\n",
       "2/21/2020      7\n",
       "2/25/2020      7\n",
       "2/18/2020      7\n",
       "2/22/2020      6\n",
       "02/11/20       6\n",
       "2/23/2020      6\n",
       "2/15/2020      5\n",
       "02/05/20       4\n",
       "1/19/2020      4\n",
       "2/26/2020      3\n",
       "01/03/20       2\n",
       "1/14/2020      2\n",
       "1/18/2020      2\n",
       "1/16/2020      2\n",
       "1/13/2020      2\n",
       "1/17/2020      1\n",
       "1/15/2020      1\n",
       "01/12/20       1\n",
       "01/11/20       1\n",
       "01/05/20       1\n",
       "01/10/20       1\n",
       "Name: symptom_onset, dtype: int64"
      ]
     },
     "execution_count": 106,
     "metadata": {},
     "output_type": "execute_result"
    }
   ],
   "source": [
    "df['symptom_onset'].value_counts(dropna=False)"
   ]
  },
  {
   "cell_type": "code",
   "execution_count": 108,
   "metadata": {},
   "outputs": [
    {
     "data": {
      "text/plain": [
       "468"
      ]
     },
     "execution_count": 108,
     "metadata": {},
     "output_type": "execute_result"
    }
   ],
   "source": [
    "df['symptom_onset'].isnull().sum()"
   ]
  },
  {
   "cell_type": "code",
   "execution_count": 113,
   "metadata": {},
   "outputs": [
    {
     "data": {
      "text/plain": [
       "197    2020-01-23\n",
       "198    2020-01-19\n",
       "199    2020-01-23\n",
       "200    2020-01-25\n",
       "201           NaT\n",
       "          ...    \n",
       "1080          NaT\n",
       "1081          NaT\n",
       "1082          NaT\n",
       "1083          NaT\n",
       "1084   2020-02-17\n",
       "Name: symptom_onset, Length: 887, dtype: datetime64[ns]"
      ]
     },
     "execution_count": 113,
     "metadata": {},
     "output_type": "execute_result"
    }
   ],
   "source": [
    "pd.to_datetime(df['symptom_onset'].astype(str), format='%m/%d/%Y',errors='coerce')"
   ]
  },
  {
   "cell_type": "code",
   "execution_count": 114,
   "metadata": {},
   "outputs": [
    {
     "data": {
      "text/plain": [
       "0"
      ]
     },
     "execution_count": 114,
     "metadata": {},
     "output_type": "execute_result"
    }
   ],
   "source": [
    "df['symptom_onset']=df['symptom_onset'].astype('object')\n",
    "df['symptom_onset'].fillna('No date', inplace = True)\n",
    "df['symptom_onset'].isnull().sum()"
   ]
  },
  {
   "cell_type": "code",
   "execution_count": null,
   "metadata": {},
   "outputs": [],
   "source": []
  },
  {
   "cell_type": "code",
   "execution_count": 116,
   "metadata": {},
   "outputs": [
    {
     "data": {
      "text/plain": [
       "NaN    469\n",
       "0.0    394\n",
       "1.0     24\n",
       "Name: If_onset_approximated, dtype: int64"
      ]
     },
     "execution_count": 116,
     "metadata": {},
     "output_type": "execute_result"
    }
   ],
   "source": [
    "df['If_onset_approximated'].value_counts(dropna=False)"
   ]
  },
  {
   "cell_type": "code",
   "execution_count": 117,
   "metadata": {},
   "outputs": [
    {
     "data": {
      "text/plain": [
       "0"
      ]
     },
     "execution_count": 117,
     "metadata": {},
     "output_type": "execute_result"
    }
   ],
   "source": [
    "df['If_onset_approximated']=df['If_onset_approximated'].astype('object')\n",
    "df['age'].fillna('Not approximated', inplace = True)\n",
    "df['age'].isnull().sum()"
   ]
  },
  {
   "cell_type": "code",
   "execution_count": 118,
   "metadata": {},
   "outputs": [
    {
     "data": {
      "text/plain": [
       "NaN          529\n",
       "2/17/2020     20\n",
       "02/03/20      17\n",
       "1/30/2020     15\n",
       "02/10/20      15\n",
       "2/25/2020     14\n",
       "1/23/2020     13\n",
       "2/24/2020     13\n",
       "02/01/20      12\n",
       "2/22/2020     12\n",
       "2/21/2020     12\n",
       "1/25/2020     12\n",
       "02/07/20      11\n",
       "02/04/20      10\n",
       "1/28/2020     10\n",
       "1/24/2020      9\n",
       "2/18/2020      9\n",
       "1/31/2020      8\n",
       "02/02/20       8\n",
       "1/29/2020      8\n",
       "2/26/2020      8\n",
       "2/19/2020      8\n",
       "02/12/20       8\n",
       "02/06/20       8\n",
       "2/13/2020      7\n",
       "1/27/2020      7\n",
       "02/09/20       7\n",
       "02/05/20       6\n",
       "2/23/2020      6\n",
       "2/20/2020      6\n",
       "1/19/2020      6\n",
       "1/26/2020      6\n",
       "02/11/20       5\n",
       "2/15/2020      5\n",
       "02/08/20       5\n",
       "2/14/2020      5\n",
       "2/16/2020      4\n",
       "1/22/2020      4\n",
       "1/21/2020      3\n",
       "1/13/2020      3\n",
       "2/27/2020      2\n",
       "1/17/2020      2\n",
       "1/20/2020      2\n",
       "2/28/2020      1\n",
       "1/15/2020      1\n",
       "01/06/20       1\n",
       "2//2020        1\n",
       "1/16/2020      1\n",
       "2/22/20        1\n",
       "01/08/20       1\n",
       "Name: hosp_visit_date, dtype: int64"
      ]
     },
     "execution_count": 118,
     "metadata": {},
     "output_type": "execute_result"
    }
   ],
   "source": [
    "df['hosp_visit_date'].value_counts(dropna=False)"
   ]
  },
  {
   "cell_type": "code",
   "execution_count": 119,
   "metadata": {},
   "outputs": [
    {
     "data": {
      "text/plain": [
       "197    2020-01-23\n",
       "198    2020-01-25\n",
       "199    2020-01-25\n",
       "200    2020-01-25\n",
       "201           NaT\n",
       "          ...    \n",
       "1080          NaT\n",
       "1081          NaT\n",
       "1082          NaT\n",
       "1083          NaT\n",
       "1084          NaT\n",
       "Name: hosp_visit_date, Length: 887, dtype: datetime64[ns]"
      ]
     },
     "execution_count": 119,
     "metadata": {},
     "output_type": "execute_result"
    }
   ],
   "source": [
    "pd.to_datetime(df['hosp_visit_date'].astype(str), format='%m/%d/%Y',errors='coerce')"
   ]
  },
  {
   "cell_type": "code",
   "execution_count": 124,
   "metadata": {},
   "outputs": [
    {
     "data": {
      "text/plain": [
       "0"
      ]
     },
     "execution_count": 124,
     "metadata": {},
     "output_type": "execute_result"
    }
   ],
   "source": [
    "df['hosp_visit_date']=df['hosp_visit_date'].astype('object')\n",
    "df['hosp_visit_date'].fillna('No date', inplace = True)\n",
    "df['hosp_visit_date'].isnull().sum()"
   ]
  },
  {
   "cell_type": "code",
   "execution_count": 125,
   "metadata": {},
   "outputs": [
    {
     "data": {
      "text/plain": [
       "No date       793\n",
       "1/26/2020      14\n",
       "1/24/2020      12\n",
       "1/20/2020       7\n",
       "1/25/2020       7\n",
       "1/23/2020       6\n",
       "1/22/2020       6\n",
       "2/19/2020       5\n",
       "2/15/2020       3\n",
       "1/18/2020       3\n",
       "1/13/2020       3\n",
       "1/19/2020       3\n",
       "1/21/2020       3\n",
       "02/12/20        2\n",
       "1/17/2020       2\n",
       "1/27/2020       2\n",
       "01/10/20        2\n",
       "02/11/20        1\n",
       "2/21/2020       1\n",
       "2/17/2020       1\n",
       "1/15/2020       1\n",
       "01/08/20        1\n",
       "1/30/2020       1\n",
       "01/12/20        1\n",
       "01/11/20        1\n",
       "12/24/2019      1\n",
       "02/04/20        1\n",
       "1/16/2020       1\n",
       "1/28/2020       1\n",
       "2/20/2020       1\n",
       "02/10/20        1\n",
       "Name: exposure_start, dtype: int64"
      ]
     },
     "execution_count": 125,
     "metadata": {},
     "output_type": "execute_result"
    }
   ],
   "source": [
    "df['exposure_start'].value_counts(dropna=False)"
   ]
  },
  {
   "cell_type": "code",
   "execution_count": 126,
   "metadata": {},
   "outputs": [
    {
     "data": {
      "text/plain": [
       "197           NaT\n",
       "198           NaT\n",
       "199           NaT\n",
       "200           NaT\n",
       "201           NaT\n",
       "          ...    \n",
       "1080          NaT\n",
       "1081          NaT\n",
       "1082          NaT\n",
       "1083   2020-02-19\n",
       "1084   2020-02-15\n",
       "Name: exposure_start, Length: 887, dtype: datetime64[ns]"
      ]
     },
     "execution_count": 126,
     "metadata": {},
     "output_type": "execute_result"
    }
   ],
   "source": [
    "pd.to_datetime(df['exposure_start'].astype(str), format='%m/%d/%Y',errors='coerce')"
   ]
  },
  {
   "cell_type": "code",
   "execution_count": 127,
   "metadata": {},
   "outputs": [
    {
     "data": {
      "text/plain": [
       "0"
      ]
     },
     "execution_count": 127,
     "metadata": {},
     "output_type": "execute_result"
    }
   ],
   "source": [
    "df['exposure_start']=df['exposure_start'].astype('object')\n",
    "df['exposure_start'].fillna('No date', inplace = True)\n",
    "df['exposure_start'].isnull().sum()"
   ]
  },
  {
   "cell_type": "code",
   "execution_count": 107,
   "metadata": {},
   "outputs": [
    {
     "data": {
      "text/plain": [
       "NaN           744\n",
       "1/22/2020      34\n",
       "1/23/2020      27\n",
       "1/20/2020      26\n",
       "1/21/2020      25\n",
       "1/19/2020      19\n",
       "1/18/2020      16\n",
       "1/17/2020      15\n",
       "1/28/2020      15\n",
       "1/26/2020      14\n",
       "1/15/2020      12\n",
       "1/16/2020      10\n",
       "1/30/2020      10\n",
       "2/21/2020       9\n",
       "1/13/2020       8\n",
       "1/31/2020       8\n",
       "01/12/20        6\n",
       "1/24/2020       6\n",
       "02/04/20        5\n",
       "1/14/2020       5\n",
       "2/22/2020       4\n",
       "1/25/2020       4\n",
       "02/02/20        4\n",
       "1/27/2020       4\n",
       "01/11/20        4\n",
       "02/03/20        3\n",
       "01/08/20        3\n",
       "01/10/20        3\n",
       "02/01/20        3\n",
       "2/19/2020       3\n",
       "2/20/2020       3\n",
       "02/07/20        3\n",
       "2/15/2020       3\n",
       "2/18/2020       2\n",
       "2/23/2020       2\n",
       "2/17/2020       2\n",
       "01/18/2020      2\n",
       "1/29/2020       2\n",
       "01/04/20        2\n",
       "02/09/20        2\n",
       "01/22/2020      1\n",
       "01/05/20        1\n",
       "01/06/20        1\n",
       "01/07/20        1\n",
       "01/02/20        1\n",
       "2/24/2020       1\n",
       "01/03/20        1\n",
       "01/09/20        1\n",
       "2/13/2020       1\n",
       "2/16/2020       1\n",
       "02/08/20        1\n",
       "2/25/2020       1\n",
       "02/05/20        1\n",
       "Name: exposure_end, dtype: int64"
      ]
     },
     "execution_count": 107,
     "metadata": {},
     "output_type": "execute_result"
    }
   ],
   "source": [
    "df['exposure_end'].value_counts(dropna=False)"
   ]
  },
  {
   "cell_type": "code",
   "execution_count": null,
   "metadata": {},
   "outputs": [],
   "source": [
    "pd.to_datetime(df['exposure_end'].astype(str), format='%m/%d/%Y',errors='coerce')"
   ]
  },
  {
   "cell_type": "code",
   "execution_count": 128,
   "metadata": {},
   "outputs": [
    {
     "data": {
      "text/plain": [
       "0"
      ]
     },
     "execution_count": 128,
     "metadata": {},
     "output_type": "execute_result"
    }
   ],
   "source": [
    "df['exposure_end']=df['exposure_end'].astype('object')\n",
    "df['exposure_end'].fillna('No date', inplace = True)\n",
    "df['exposure_end'].isnull().sum()"
   ]
  },
  {
   "cell_type": "code",
   "execution_count": 129,
   "metadata": {},
   "outputs": [
    {
     "data": {
      "text/plain": [
       "0    780\n",
       "1    107\n",
       "Name: visiting Wuhan, dtype: int64"
      ]
     },
     "execution_count": 129,
     "metadata": {},
     "output_type": "execute_result"
    }
   ],
   "source": [
    "df['visiting Wuhan'].value_counts(dropna=False)"
   ]
  },
  {
   "cell_type": "code",
   "execution_count": 130,
   "metadata": {},
   "outputs": [
    {
     "data": {
      "text/plain": [
       "0.0    813\n",
       "1.0     74\n",
       "Name: from Wuhan, dtype: int64"
      ]
     },
     "execution_count": 130,
     "metadata": {},
     "output_type": "execute_result"
    }
   ],
   "source": [
    "df['from Wuhan'].value_counts(dropna=False)"
   ]
  },
  {
   "cell_type": "code",
   "execution_count": 131,
   "metadata": {},
   "outputs": [
    {
     "data": {
      "text/plain": [
       "0            863\n",
       "2/23/2020      4\n",
       "2/26/2020      3\n",
       "1              3\n",
       "2/19/2020      2\n",
       "2/27/2020      2\n",
       "2/25/2020      2\n",
       "2/21/2020      2\n",
       "2/28/2020      1\n",
       "2/13/2020      1\n",
       "2/24/2020      1\n",
       "02/01/20       1\n",
       "2/14/2020      1\n",
       "2/22/2020      1\n",
       "Name: death, dtype: int64"
      ]
     },
     "execution_count": 131,
     "metadata": {},
     "output_type": "execute_result"
    }
   ],
   "source": [
    "df['death'].value_counts(dropna=False)"
   ]
  },
  {
   "cell_type": "code",
   "execution_count": 139,
   "metadata": {},
   "outputs": [],
   "source": [
    "pd.to_datetime(df['death'].astype(str), format='%m/%d/%Y',errors='coerce')\n",
    "df['death'].replace(to_replace =[\"0\", \"1\"],  \n",
    "                            value =\"No Date\",inplace=True) "
   ]
  },
  {
   "cell_type": "code",
   "execution_count": 140,
   "metadata": {},
   "outputs": [
    {
     "data": {
      "text/plain": [
       "0"
      ]
     },
     "execution_count": 140,
     "metadata": {},
     "output_type": "execute_result"
    }
   ],
   "source": [
    "df['death']=df['death'].astype('object')\n",
    "df['death'].fillna('No date', inplace = True)\n",
    "df['death'].isnull().sum()"
   ]
  },
  {
   "cell_type": "code",
   "execution_count": null,
   "metadata": {},
   "outputs": [],
   "source": []
  },
  {
   "cell_type": "code",
   "execution_count": 142,
   "metadata": {},
   "outputs": [
    {
     "data": {
      "text/plain": [
       "0             731\n",
       "2/18/2020      13\n",
       "2/19/2020      13\n",
       "12/30/1899     12\n",
       "02/12/20       11\n",
       "2/21/2020      10\n",
       "2/20/2020       9\n",
       "2/15/2020       9\n",
       "2/14/2020       8\n",
       "2/17/2020       7\n",
       "2/24/2020       7\n",
       "2/26/2020       6\n",
       "02/09/20        6\n",
       "2/27/2020       5\n",
       "2/25/2020       5\n",
       "02/04/20        4\n",
       "02/06/20        4\n",
       "1               4\n",
       "02/11/20        3\n",
       "2/16/2020       3\n",
       "2/22/2020       3\n",
       "02/05/20        2\n",
       "02/08/20        2\n",
       "1/30/2020       2\n",
       "1/17/2020       1\n",
       "02/07/20        1\n",
       "02/02/20        1\n",
       "1/31/2020       1\n",
       "2/13/2020       1\n",
       "2/28/2020       1\n",
       "1/15/2020       1\n",
       "2/23/2020       1\n",
       "Name: recovered, dtype: int64"
      ]
     },
     "execution_count": 142,
     "metadata": {},
     "output_type": "execute_result"
    }
   ],
   "source": [
    "df['recovered'].value_counts(dropna=False)"
   ]
  },
  {
   "cell_type": "code",
   "execution_count": 143,
   "metadata": {},
   "outputs": [],
   "source": [
    "pd.to_datetime(df['recovered'].astype(str), format='%m/%d/%Y',errors='coerce')\n",
    "df['recovered'].replace(to_replace =[\"0\", \"1\"],  \n",
    "                            value =\"No Date\",inplace=True) "
   ]
  },
  {
   "cell_type": "code",
   "execution_count": 144,
   "metadata": {},
   "outputs": [
    {
     "data": {
      "text/plain": [
       "0"
      ]
     },
     "execution_count": 144,
     "metadata": {},
     "output_type": "execute_result"
    }
   ],
   "source": [
    "df['recovered']=df['recovered'].astype('object')\n",
    "df['recovered'].fillna('No date', inplace = True)\n",
    "df['recovered'].isnull().sum()"
   ]
  },
  {
   "cell_type": "code",
   "execution_count": 145,
   "metadata": {},
   "outputs": [
    {
     "data": {
      "text/plain": [
       "NaN                                620\n",
       "fever                               72\n",
       "fever, cough                        36\n",
       "cough                               14\n",
       "fever, malaise                       7\n",
       "                                  ... \n",
       "cough, sneeze                        1\n",
       "fever, cough, sputum, malaise        1\n",
       "high fever, chills, muscle pain      1\n",
       "fever, abdominal pain, diarrhea      1\n",
       "feve\\                                1\n",
       "Name: symptom, Length: 108, dtype: int64"
      ]
     },
     "execution_count": 145,
     "metadata": {},
     "output_type": "execute_result"
    }
   ],
   "source": [
    "df['symptom'].value_counts(dropna=False)"
   ]
  },
  {
   "cell_type": "code",
   "execution_count": 153,
   "metadata": {},
   "outputs": [
    {
     "data": {
      "text/plain": [
       "0"
      ]
     },
     "execution_count": 153,
     "metadata": {},
     "output_type": "execute_result"
    }
   ],
   "source": [
    " df['symptom'].fillna(\"Not identified\", inplace = True) \n",
    "df['symptom'].isnull().sum()\n",
    "                           "
   ]
  },
  {
   "cell_type": "code",
   "execution_count": null,
   "metadata": {},
   "outputs": [],
   "source": []
  },
  {
   "cell_type": "code",
   "execution_count": 155,
   "metadata": {},
   "outputs": [
    {
     "data": {
      "text/plain": [
       "Ministry of Health                 178\n",
       "KCDC                               103\n",
       "Ministry of Health Singapore        67\n",
       "Government HK                       60\n",
       "Channel News Asia                   51\n",
       "                                  ... \n",
       "rthk.hk                              1\n",
       "Vietnam Insider                      1\n",
       "US News                              1\n",
       "Thomson Reuters Foundation News      1\n",
       "Nikkei Asian Review                  1\n",
       "Name: source, Length: 74, dtype: int64"
      ]
     },
     "execution_count": 155,
     "metadata": {},
     "output_type": "execute_result"
    }
   ],
   "source": [
    "df['source'].value_counts(dropna=False)"
   ]
  },
  {
   "cell_type": "code",
   "execution_count": 156,
   "metadata": {},
   "outputs": [
    {
     "data": {
      "text/plain": [
       "0"
      ]
     },
     "execution_count": 156,
     "metadata": {},
     "output_type": "execute_result"
    }
   ],
   "source": [
    "df['source'].isnull().sum()"
   ]
  },
  {
   "cell_type": "code",
   "execution_count": 157,
   "metadata": {
    "scrolled": true
   },
   "outputs": [
    {
     "data": {
      "text/plain": [
       "https://www.mhlw.go.jp/stf/houdou/houdou_list_202002.html                                                                                                                                                                                                                                                                                                                                                                                                                                                                                                                                                                                                                                                                                                                                                                          87\n",
       "https://www.mhlw.go.jp/stf/newpage_09713.html                                                                                                                                                                                                                                                                                                                                                                                                                                                                                                                                                                                                                                                                                                                                                                                      48\n",
       "https://www.moh.gov.sg/news-highlights/details/two-more-cases-discharged-two-new-cases-of-novel-coronavirus-infection-confirmed                                                                                                                                                                                                                                                                                                                                                                                                                                                                                                                                                                                                                                                                                                    22\n",
       "https://www.mhlw.go.jp/stf/newpage_09652.html                                                                                                                                                                                                                                                                                                                                                                                                                                                                                                                                                                                                                                                                                                                                                                                      22\n",
       "http://behdasht.gov.ir/news/%DA%A9%D8%B1%D9%88%D9%86%D8%A7+%D9%88%DB%8C%D8%B1%D9%88%D8%B3/199807/%D8%AF%D8%B1+%D8%B1%D9%88%D8%B2%D9%87%D8%A7%DB%8C+%DA%AF%D8%B0%D8%B4%D8%AA%D9%87+735+%D8%A8%DB%8C%D9%85%D8%A7%D8%B1+%D8%A8%D8%A7+%D8%B9%D9%84%D8%A7%D8%A6%D9%85+%D8%B4%D8%A8%D9%87+%D8%A2%D9%86%D9%81%D9%84%D9%88%D8%A2%D9%86%D8%B2%D8%A7+%D8%AF%D8%B1+%DA%A9%D8%B4%D9%88%D8%B1+%D8%A8%D8%B3%D8%AA%D8%B1%DB%8C+%D8%B4%D8%AF%D9%86%D8%AF+%D8%A8%D8%B1+%D8%A7%D8%B3%D8%A7%D8%B3+%D8%A2%D8%AE%D8%B1%DB%8C%D9%86+%D9%86%D8%AA%D8%A7%DB%8C%D8%AC+%D8%A2%D8%B2%D9%85%D8%A7%DB%8C%D8%B4+%D9%87%D8%A7+%D8%A7%D8%A8%D8%AA%D9%84%D8%A7%DB%8C+13+%D9%85%D9%88%D8%B1%D8%AF+%D8%AF%DB%8C%DA%AF%D8%B1+%D8%A8%D9%87+%DA%A9%D9%88%D9%88%DB%8C%D8%AF19+%D9%82%D8%B7%D8%B9%DB%8C+%D8%A8%D9%87+%D9%86%D8%B8%D8%B1+%D9%85%DB%8C+%D8%B1%D8%B3%D8%AF    16\n",
       "                                                                                                                                                                                                                                                                                                                                                                                                                                                                                                                                                                                                                                                                                                                                                                                                                                   ..\n",
       "https://www.cdc.go.kr/board/board.es?mid=a30402000000&bid=0030&act=view&list_no=366261&tag=&nPage=16                                                                                                                                                                                                                                                                                                                                                                                                                                                                                                                                                                                                                                                                                                                                1\n",
       "https://www.channelnewsasia.com/news/asia/wuhan-virus-coronavirus-thailand-cases-12410692                                                                                                                                                                                                                                                                                                                                                                                                                                                                                                                                                                                                                                                                                                                                           1\n",
       "https://www3.nhk.or.jp/nhkworld/en/news/20200116_23/                                                                                                                                                                                                                                                                                                                                                                                                                                                                                                                                                                                                                                                                                                                                                                                1\n",
       "https://www.channelnewsasia.com/news/asia/wuhan-virus-coronavirus-thailand-cases-12410694                                                                                                                                                                                                                                                                                                                                                                                                                                                                                                                                                                                                                                                                                                                                           1\n",
       "https://www.cdc.go.kr/board/board.es?mid=a30402000000&bid=0030&act=view&list_no=366261&tag=&nPage=39                                                                                                                                                                                                                                                                                                                                                                                                                                                                                                                                                                                                                                                                                                                                1\n",
       "Name: link, Length: 416, dtype: int64"
      ]
     },
     "execution_count": 157,
     "metadata": {},
     "output_type": "execute_result"
    }
   ],
   "source": [
    "df['link'].value_counts(dropna=False)"
   ]
  },
  {
   "cell_type": "code",
   "execution_count": 160,
   "metadata": {},
   "outputs": [
    {
     "data": {
      "text/plain": [
       "0"
      ]
     },
     "execution_count": 160,
     "metadata": {},
     "output_type": "execute_result"
    }
   ],
   "source": [
    "df['link'].isnull().sum()"
   ]
  },
  {
   "cell_type": "code",
   "execution_count": null,
   "metadata": {},
   "outputs": [],
   "source": []
  },
  {
   "cell_type": "code",
   "execution_count": 161,
   "metadata": {},
   "outputs": [
    {
     "data": {
      "text/html": [
       "<div>\n",
       "<style scoped>\n",
       "    .dataframe tbody tr th:only-of-type {\n",
       "        vertical-align: middle;\n",
       "    }\n",
       "\n",
       "    .dataframe tbody tr th {\n",
       "        vertical-align: top;\n",
       "    }\n",
       "\n",
       "    .dataframe thead th {\n",
       "        text-align: right;\n",
       "    }\n",
       "</style>\n",
       "<table border=\"1\" class=\"dataframe\">\n",
       "  <thead>\n",
       "    <tr style=\"text-align: right;\">\n",
       "      <th></th>\n",
       "      <th>id</th>\n",
       "      <th>case_in_country</th>\n",
       "      <th>reporting date</th>\n",
       "      <th>summary</th>\n",
       "      <th>location</th>\n",
       "      <th>country</th>\n",
       "      <th>gender</th>\n",
       "      <th>age</th>\n",
       "      <th>symptom_onset</th>\n",
       "      <th>If_onset_approximated</th>\n",
       "      <th>hosp_visit_date</th>\n",
       "      <th>exposure_start</th>\n",
       "      <th>exposure_end</th>\n",
       "      <th>visiting Wuhan</th>\n",
       "      <th>from Wuhan</th>\n",
       "      <th>death</th>\n",
       "      <th>recovered</th>\n",
       "      <th>symptom</th>\n",
       "      <th>source</th>\n",
       "      <th>link</th>\n",
       "    </tr>\n",
       "  </thead>\n",
       "  <tbody>\n",
       "    <tr>\n",
       "      <th>197</th>\n",
       "      <td>198</td>\n",
       "      <td>1.0</td>\n",
       "      <td>1/25/2020</td>\n",
       "      <td>new confirmed COVID-19 patient in Bordeaux, Fr...</td>\n",
       "      <td>Bordeaux</td>\n",
       "      <td>France</td>\n",
       "      <td>male</td>\n",
       "      <td>48</td>\n",
       "      <td>1/23/2020</td>\n",
       "      <td>0</td>\n",
       "      <td>1/23/2020</td>\n",
       "      <td>No date</td>\n",
       "      <td>1/22/2020</td>\n",
       "      <td>1</td>\n",
       "      <td>0.0</td>\n",
       "      <td>No Date</td>\n",
       "      <td>No Date</td>\n",
       "      <td>Not identified</td>\n",
       "      <td>CNBC</td>\n",
       "      <td>https://www.cnbc.com/2020/01/25/reuters-americ...</td>\n",
       "    </tr>\n",
       "    <tr>\n",
       "      <th>198</th>\n",
       "      <td>199</td>\n",
       "      <td>2.0</td>\n",
       "      <td>1/25/2020</td>\n",
       "      <td>new confirmed COVID-19 patient in Paris, Franc...</td>\n",
       "      <td>Paris</td>\n",
       "      <td>France</td>\n",
       "      <td>male</td>\n",
       "      <td>31</td>\n",
       "      <td>1/19/2020</td>\n",
       "      <td>0</td>\n",
       "      <td>1/19/2020</td>\n",
       "      <td>No date</td>\n",
       "      <td>1/18/2020</td>\n",
       "      <td>0</td>\n",
       "      <td>1.0</td>\n",
       "      <td>No Date</td>\n",
       "      <td>02/12/20</td>\n",
       "      <td>Not identified</td>\n",
       "      <td>CGTN</td>\n",
       "      <td>https://newseu.cgtn.com/news/2020-01-26/Corona...</td>\n",
       "    </tr>\n",
       "    <tr>\n",
       "      <th>199</th>\n",
       "      <td>200</td>\n",
       "      <td>3.0</td>\n",
       "      <td>1/25/2020</td>\n",
       "      <td>new confirmed COVID-19 patient in Paris, Franc...</td>\n",
       "      <td>Paris</td>\n",
       "      <td>France</td>\n",
       "      <td>female</td>\n",
       "      <td>30</td>\n",
       "      <td>1/23/2020</td>\n",
       "      <td>0</td>\n",
       "      <td>1/23/2020</td>\n",
       "      <td>No date</td>\n",
       "      <td>1/19/2020</td>\n",
       "      <td>0</td>\n",
       "      <td>1.0</td>\n",
       "      <td>No Date</td>\n",
       "      <td>02/12/20</td>\n",
       "      <td>Not identified</td>\n",
       "      <td>CGTN</td>\n",
       "      <td>https://newseu.cgtn.com/news/2020-01-26/Corona...</td>\n",
       "    </tr>\n",
       "    <tr>\n",
       "      <th>200</th>\n",
       "      <td>201</td>\n",
       "      <td>4.0</td>\n",
       "      <td>1/28/2020</td>\n",
       "      <td>new confirmed COVID-19 patient in Paris, Franc...</td>\n",
       "      <td>Paris</td>\n",
       "      <td>France</td>\n",
       "      <td>male</td>\n",
       "      <td>80</td>\n",
       "      <td>1/25/2020</td>\n",
       "      <td>1</td>\n",
       "      <td>1/25/2020</td>\n",
       "      <td>No date</td>\n",
       "      <td>1/23/2020</td>\n",
       "      <td>0</td>\n",
       "      <td>1.0</td>\n",
       "      <td>2/14/2020</td>\n",
       "      <td>No Date</td>\n",
       "      <td>Not identified</td>\n",
       "      <td>The Local</td>\n",
       "      <td>https://www.thelocal.de/20200128/number-of-ger...</td>\n",
       "    </tr>\n",
       "    <tr>\n",
       "      <th>201</th>\n",
       "      <td>202</td>\n",
       "      <td>5.0</td>\n",
       "      <td>1/29/2020</td>\n",
       "      <td>new confirmed COVID-19 patient in Paris, Franc...</td>\n",
       "      <td>Paris</td>\n",
       "      <td>France</td>\n",
       "      <td>female</td>\n",
       "      <td>No age</td>\n",
       "      <td>No date</td>\n",
       "      <td>NaN</td>\n",
       "      <td>No date</td>\n",
       "      <td>No date</td>\n",
       "      <td>1/23/2020</td>\n",
       "      <td>1</td>\n",
       "      <td>0.0</td>\n",
       "      <td>No Date</td>\n",
       "      <td>No Date</td>\n",
       "      <td>Not identified</td>\n",
       "      <td>The Local</td>\n",
       "      <td>https://www.thelocal.fr/20200131/coronavirus-i...</td>\n",
       "    </tr>\n",
       "    <tr>\n",
       "      <th>...</th>\n",
       "      <td>...</td>\n",
       "      <td>...</td>\n",
       "      <td>...</td>\n",
       "      <td>...</td>\n",
       "      <td>...</td>\n",
       "      <td>...</td>\n",
       "      <td>...</td>\n",
       "      <td>...</td>\n",
       "      <td>...</td>\n",
       "      <td>...</td>\n",
       "      <td>...</td>\n",
       "      <td>...</td>\n",
       "      <td>...</td>\n",
       "      <td>...</td>\n",
       "      <td>...</td>\n",
       "      <td>...</td>\n",
       "      <td>...</td>\n",
       "      <td>...</td>\n",
       "      <td>...</td>\n",
       "      <td>...</td>\n",
       "    </tr>\n",
       "    <tr>\n",
       "      <th>1080</th>\n",
       "      <td>1081</td>\n",
       "      <td>2.0</td>\n",
       "      <td>2/25/2020</td>\n",
       "      <td>new COVID-19 patient confirmed in Austria: 24,...</td>\n",
       "      <td>Innsbruck</td>\n",
       "      <td>Austria</td>\n",
       "      <td>No Gender</td>\n",
       "      <td>24</td>\n",
       "      <td>No date</td>\n",
       "      <td>NaN</td>\n",
       "      <td>No date</td>\n",
       "      <td>No date</td>\n",
       "      <td>No date</td>\n",
       "      <td>0</td>\n",
       "      <td>0.0</td>\n",
       "      <td>No Date</td>\n",
       "      <td>No Date</td>\n",
       "      <td>Not identified</td>\n",
       "      <td>Jakarta Post</td>\n",
       "      <td>https://www.thejakartapost.com/news/2020/02/25...</td>\n",
       "    </tr>\n",
       "    <tr>\n",
       "      <th>1081</th>\n",
       "      <td>1082</td>\n",
       "      <td>1.0</td>\n",
       "      <td>2/24/2020</td>\n",
       "      <td>new COVID-19 patient confirmed in Afghanistan:...</td>\n",
       "      <td>Afghanistan</td>\n",
       "      <td>Afghanistan</td>\n",
       "      <td>No Gender</td>\n",
       "      <td>35</td>\n",
       "      <td>No date</td>\n",
       "      <td>NaN</td>\n",
       "      <td>No date</td>\n",
       "      <td>No date</td>\n",
       "      <td>No date</td>\n",
       "      <td>0</td>\n",
       "      <td>0.0</td>\n",
       "      <td>No Date</td>\n",
       "      <td>No Date</td>\n",
       "      <td>Not identified</td>\n",
       "      <td>Fox News</td>\n",
       "      <td>https://www.foxnews.com/health/afghanistan-fir...</td>\n",
       "    </tr>\n",
       "    <tr>\n",
       "      <th>1082</th>\n",
       "      <td>1083</td>\n",
       "      <td>1.0</td>\n",
       "      <td>2/26/2020</td>\n",
       "      <td>new COVID-19 patient confirmed in Algeria: mal...</td>\n",
       "      <td>Algeria</td>\n",
       "      <td>Algeria</td>\n",
       "      <td>male</td>\n",
       "      <td>No age</td>\n",
       "      <td>No date</td>\n",
       "      <td>NaN</td>\n",
       "      <td>No date</td>\n",
       "      <td>No date</td>\n",
       "      <td>2/17/2020</td>\n",
       "      <td>0</td>\n",
       "      <td>0.0</td>\n",
       "      <td>No Date</td>\n",
       "      <td>No Date</td>\n",
       "      <td>Not identified</td>\n",
       "      <td>South China Morning Post</td>\n",
       "      <td>https://www.scmp.com/news/china/society/articl...</td>\n",
       "    </tr>\n",
       "    <tr>\n",
       "      <th>1083</th>\n",
       "      <td>1084</td>\n",
       "      <td>1.0</td>\n",
       "      <td>2/25/2020</td>\n",
       "      <td>new COVID-19 patient confirmed in Croatia: mal...</td>\n",
       "      <td>Croatia</td>\n",
       "      <td>Croatia</td>\n",
       "      <td>male</td>\n",
       "      <td>No age</td>\n",
       "      <td>No date</td>\n",
       "      <td>NaN</td>\n",
       "      <td>No date</td>\n",
       "      <td>2/19/2020</td>\n",
       "      <td>2/21/2020</td>\n",
       "      <td>0</td>\n",
       "      <td>0.0</td>\n",
       "      <td>No Date</td>\n",
       "      <td>No Date</td>\n",
       "      <td>Not identified</td>\n",
       "      <td>Reuters</td>\n",
       "      <td>https://www.reuters.com/article/us-croatia-cor...</td>\n",
       "    </tr>\n",
       "    <tr>\n",
       "      <th>1084</th>\n",
       "      <td>1085</td>\n",
       "      <td>1.0</td>\n",
       "      <td>2/25/2020</td>\n",
       "      <td>new COVID-19 patient confirmed in Switzerland:...</td>\n",
       "      <td>Bern</td>\n",
       "      <td>Switzerland</td>\n",
       "      <td>male</td>\n",
       "      <td>70</td>\n",
       "      <td>2/17/2020</td>\n",
       "      <td>NaN</td>\n",
       "      <td>2/17/2020</td>\n",
       "      <td>2/15/2020</td>\n",
       "      <td>2/15/2020</td>\n",
       "      <td>0</td>\n",
       "      <td>0.0</td>\n",
       "      <td>No Date</td>\n",
       "      <td>No Date</td>\n",
       "      <td>Not identified</td>\n",
       "      <td>Reuters</td>\n",
       "      <td>https://www.reuters.com/article/uk-switzerland...</td>\n",
       "    </tr>\n",
       "  </tbody>\n",
       "</table>\n",
       "<p>887 rows × 20 columns</p>\n",
       "</div>"
      ],
      "text/plain": [
       "        id  case_in_country reporting date  \\\n",
       "197    198              1.0      1/25/2020   \n",
       "198    199              2.0      1/25/2020   \n",
       "199    200              3.0      1/25/2020   \n",
       "200    201              4.0      1/28/2020   \n",
       "201    202              5.0      1/29/2020   \n",
       "...    ...              ...            ...   \n",
       "1080  1081              2.0      2/25/2020   \n",
       "1081  1082              1.0      2/24/2020   \n",
       "1082  1083              1.0      2/26/2020   \n",
       "1083  1084              1.0      2/25/2020   \n",
       "1084  1085              1.0      2/25/2020   \n",
       "\n",
       "                                                summary     location  \\\n",
       "197   new confirmed COVID-19 patient in Bordeaux, Fr...     Bordeaux   \n",
       "198   new confirmed COVID-19 patient in Paris, Franc...        Paris   \n",
       "199   new confirmed COVID-19 patient in Paris, Franc...        Paris   \n",
       "200   new confirmed COVID-19 patient in Paris, Franc...        Paris   \n",
       "201   new confirmed COVID-19 patient in Paris, Franc...        Paris   \n",
       "...                                                 ...          ...   \n",
       "1080  new COVID-19 patient confirmed in Austria: 24,...    Innsbruck   \n",
       "1081  new COVID-19 patient confirmed in Afghanistan:...  Afghanistan   \n",
       "1082  new COVID-19 patient confirmed in Algeria: mal...      Algeria   \n",
       "1083  new COVID-19 patient confirmed in Croatia: mal...      Croatia   \n",
       "1084  new COVID-19 patient confirmed in Switzerland:...         Bern   \n",
       "\n",
       "          country     gender     age symptom_onset If_onset_approximated  \\\n",
       "197        France       male      48     1/23/2020                     0   \n",
       "198        France       male      31     1/19/2020                     0   \n",
       "199        France     female      30     1/23/2020                     0   \n",
       "200        France       male      80     1/25/2020                     1   \n",
       "201        France     female  No age       No date                   NaN   \n",
       "...           ...        ...     ...           ...                   ...   \n",
       "1080      Austria  No Gender      24       No date                   NaN   \n",
       "1081  Afghanistan  No Gender      35       No date                   NaN   \n",
       "1082      Algeria       male  No age       No date                   NaN   \n",
       "1083      Croatia       male  No age       No date                   NaN   \n",
       "1084  Switzerland       male      70     2/17/2020                   NaN   \n",
       "\n",
       "     hosp_visit_date exposure_start exposure_end  visiting Wuhan  from Wuhan  \\\n",
       "197        1/23/2020        No date    1/22/2020               1         0.0   \n",
       "198        1/19/2020        No date    1/18/2020               0         1.0   \n",
       "199        1/23/2020        No date    1/19/2020               0         1.0   \n",
       "200        1/25/2020        No date    1/23/2020               0         1.0   \n",
       "201          No date        No date    1/23/2020               1         0.0   \n",
       "...              ...            ...          ...             ...         ...   \n",
       "1080         No date        No date      No date               0         0.0   \n",
       "1081         No date        No date      No date               0         0.0   \n",
       "1082         No date        No date    2/17/2020               0         0.0   \n",
       "1083         No date      2/19/2020    2/21/2020               0         0.0   \n",
       "1084       2/17/2020      2/15/2020    2/15/2020               0         0.0   \n",
       "\n",
       "          death recovered         symptom                    source  \\\n",
       "197     No Date   No Date  Not identified                      CNBC   \n",
       "198     No Date  02/12/20  Not identified                      CGTN   \n",
       "199     No Date  02/12/20  Not identified                      CGTN   \n",
       "200   2/14/2020   No Date  Not identified                 The Local   \n",
       "201     No Date   No Date  Not identified                 The Local   \n",
       "...         ...       ...             ...                       ...   \n",
       "1080    No Date   No Date  Not identified              Jakarta Post   \n",
       "1081    No Date   No Date  Not identified                  Fox News   \n",
       "1082    No Date   No Date  Not identified  South China Morning Post   \n",
       "1083    No Date   No Date  Not identified                   Reuters   \n",
       "1084    No Date   No Date  Not identified                   Reuters   \n",
       "\n",
       "                                                   link  \n",
       "197   https://www.cnbc.com/2020/01/25/reuters-americ...  \n",
       "198   https://newseu.cgtn.com/news/2020-01-26/Corona...  \n",
       "199   https://newseu.cgtn.com/news/2020-01-26/Corona...  \n",
       "200   https://www.thelocal.de/20200128/number-of-ger...  \n",
       "201   https://www.thelocal.fr/20200131/coronavirus-i...  \n",
       "...                                                 ...  \n",
       "1080  https://www.thejakartapost.com/news/2020/02/25...  \n",
       "1081  https://www.foxnews.com/health/afghanistan-fir...  \n",
       "1082  https://www.scmp.com/news/china/society/articl...  \n",
       "1083  https://www.reuters.com/article/us-croatia-cor...  \n",
       "1084  https://www.reuters.com/article/uk-switzerland...  \n",
       "\n",
       "[887 rows x 20 columns]"
      ]
     },
     "execution_count": 161,
     "metadata": {},
     "output_type": "execute_result"
    }
   ],
   "source": [
    "df"
   ]
  },
  {
   "cell_type": "code",
   "execution_count": null,
   "metadata": {},
   "outputs": [],
   "source": []
  },
  {
   "cell_type": "code",
   "execution_count": null,
   "metadata": {},
   "outputs": [],
   "source": []
  },
  {
   "cell_type": "code",
   "execution_count": null,
   "metadata": {},
   "outputs": [],
   "source": []
  },
  {
   "cell_type": "code",
   "execution_count": 62,
   "metadata": {},
   "outputs": [],
   "source": []
  },
  {
   "cell_type": "code",
   "execution_count": null,
   "metadata": {},
   "outputs": [],
   "source": []
  },
  {
   "cell_type": "code",
   "execution_count": null,
   "metadata": {},
   "outputs": [],
   "source": []
  }
 ],
 "metadata": {
  "kernelspec": {
   "display_name": "Python 3",
   "language": "python",
   "name": "python3"
  },
  "language_info": {
   "codemirror_mode": {
    "name": "ipython",
    "version": 3
   },
   "file_extension": ".py",
   "mimetype": "text/x-python",
   "name": "python",
   "nbconvert_exporter": "python",
   "pygments_lexer": "ipython3",
   "version": "3.7.5"
  }
 },
 "nbformat": 4,
 "nbformat_minor": 2
}
